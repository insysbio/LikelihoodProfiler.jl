{
 "cells": [
  {
   "cell_type": "markdown",
   "id": "bc3a8087",
   "metadata": {},
   "source": [
    "# Identity matrix vs. Hessian matrix\n",
    "\n",
    "18 April 2025\n",
    "\n",
    "In this notebook, we compare two matrix types in `IntegrationProfiler`:\n",
    "- matrix_type = :hessian,\n",
    "- matrix_type = :identity (with 4 choices of gamma: 1e-1, 1e+0, 1e+2, 1e+4).\n",
    "\n",
    "Our criteria for comparison are:\n",
    "- Number of function evaluations\n",
    "- Running time"
   ]
  },
  {
   "cell_type": "markdown",
   "id": "5bd760e4",
   "metadata": {},
   "source": [
    "### 1. Load packages"
   ]
  },
  {
   "cell_type": "code",
   "execution_count": 1,
   "id": "85533af3",
   "metadata": {},
   "outputs": [],
   "source": [
    "using Revise\n",
    "using LikelihoodProfiler\n",
    "using Optimization, ForwardDiff, OrdinaryDiffEq\n",
    "using CSV, DataFrames, PrettyTables"
   ]
  },
  {
   "cell_type": "markdown",
   "id": "264594fc",
   "metadata": {},
   "source": [
    "### 2. Check for simple analytic functions"
   ]
  },
  {
   "cell_type": "markdown",
   "id": "18b6c116",
   "metadata": {},
   "source": [
    "In a first experiment, we run different methods for simple analytic functions."
   ]
  },
  {
   "cell_type": "code",
   "execution_count": 2,
   "id": "f2ab0037",
   "metadata": {},
   "outputs": [
    {
     "data": {
      "text/plain": [
       "Dict{Symbol, Dict{Symbol, Any}} with 8 entries:\n",
       "  :f_5p       => Dict(:threshold=>4.0, :profile_range=>[(-20.0, 20.0), (-20.0, …\n",
       "  :f_3p_1im   => Dict(:grad!=>#23, :threshold=>4.0, :profile_range=>[(-20.0, 20…\n",
       "  :f_4p_2im   => Dict(:grad!=>#29, :threshold=>4.0, :profile_range=>[(-20.0, 20…\n",
       "  :f_1p_ex    => Dict(:grad!=>#14, :threshold=>4.0, :profile_range=>[(-20.0, 20…\n",
       "  :f_3p_1im2  => Dict(:grad!=>#26, :threshold=>4.0, :profile_range=>[(-20.0, 20…\n",
       "  :f_2p_1im   => Dict(:grad!=>#17, :threshold=>4.0, :profile_range=>[(-20.0, 20…\n",
       "  :f_2p       => Dict(:grad!=>#20, :threshold=>4.0, :profile_range=>[(-20.0, 20…\n",
       "  :rosenbrock => Dict(:threshold=>4.0, :profile_range=>[(-10.0, 10.0), (-10.0, …"
      ]
     },
     "metadata": {},
     "output_type": "display_data"
    }
   ],
   "source": [
    "include(joinpath(@__DIR__, \"../models/AnalyticFuncs/analytic_funcs.jl\"))"
   ]
  },
  {
   "cell_type": "code",
   "execution_count": 3,
   "id": "c1a06162",
   "metadata": {},
   "outputs": [
    {
     "data": {
      "text/plain": [
       "(dtmax = 0.3,)"
      ]
     },
     "metadata": {},
     "output_type": "display_data"
    }
   ],
   "source": [
    "integrator = Tsit5()\n",
    "integrator_opts = (dtmax=0.3,)"
   ]
  },
  {
   "cell_type": "code",
   "execution_count": 5,
   "id": "902825f2",
   "metadata": {},
   "outputs": [
    {
     "name": "stdout",
     "output_type": "stream",
     "text": [
      "\u001b[1mf_5p\u001b[0m\n",
      "┌────────────────────────────────────────────┬───────────┬───────────┐\n",
      "│\u001b[1m                                     method \u001b[0m│\u001b[1m    fevals \u001b[0m│\u001b[1m   runtime \u001b[0m│\n",
      "├────────────────────────────────────────────┼───────────┼───────────┤\n",
      "│      (matrix_type = :hessian, gamma = 1.0) │ [90, 126] │ 0.0012738 │\n",
      "│     (matrix_type = :identity, gamma = 0.1) │ [72, 126] │ 0.0005533 │\n",
      "│     (matrix_type = :identity, gamma = 1.0) │ [72, 126] │  0.000511 │\n",
      "│   (matrix_type = :identity, gamma = 100.0) │ [72, 126] │ 0.0004976 │\n",
      "│ (matrix_type = :identity, gamma = 10000.0) │ [72, 126] │  0.000491 │\n",
      "└────────────────────────────────────────────┴───────────┴───────────┘\n",
      "\u001b[1mf_3p_1im\u001b[0m\n",
      "┌────────────────────────────────────────────┬───────────────────────┬───────────┐\n",
      "│\u001b[1m                                     method \u001b[0m│\u001b[1m                fevals \u001b[0m│\u001b[1m   runtime \u001b[0m│\n",
      "├────────────────────────────────────────────┼───────────────────────┼───────────┤\n",
      "│      (matrix_type = :hessian, gamma = 1.0) │       [126, 150, 816] │ 0.0060004 │\n",
      "│     (matrix_type = :identity, gamma = 0.1) │       [102, 138, 852] │ 0.0008769 │\n",
      "│     (matrix_type = :identity, gamma = 1.0) │       [144, 186, 852] │ 0.0008773 │\n",
      "│   (matrix_type = :identity, gamma = 100.0) │     [1416, 3900, 852] │  0.002067 │\n",
      "│ (matrix_type = :identity, gamma = 10000.0) │ [120030, 120048, 852] │ 0.0707907 │\n",
      "└────────────────────────────────────────────┴───────────────────────┴───────────┘\n",
      "\u001b[1mf_4p_2im\u001b[0m\n",
      "┌────────────────────────────────────────────┬──────────────────────┬───────────┐\n",
      "│\u001b[1m                                     method \u001b[0m│\u001b[1m               fevals \u001b[0m│\u001b[1m   runtime \u001b[0m│\n",
      "├────────────────────────────────────────────┼──────────────────────┼───────────┤\n",
      "│      (matrix_type = :hessian, gamma = 1.0) │ [126, 126, 816, 816] │ 0.0121132 │\n",
      "│     (matrix_type = :identity, gamma = 0.1) │ [114, 114, 840, 840] │ 0.0026708 │\n",
      "│     (matrix_type = :identity, gamma = 1.0) │ [114, 114, 840, 840] │ 0.0020165 │\n",
      "│   (matrix_type = :identity, gamma = 100.0) │ [114, 114, 840, 840] │  0.002345 │\n",
      "│ (matrix_type = :identity, gamma = 10000.0) │ [114, 114, 840, 840] │ 0.0016668 │\n",
      "└────────────────────────────────────────────┴──────────────────────┴───────────┘\n",
      "\u001b[1mf_1p_ex\u001b[0m\n",
      "┌────────────────────────────────────────────┬────────────┬───────────┐\n",
      "│\u001b[1m                                     method \u001b[0m│\u001b[1m     fevals \u001b[0m│\u001b[1m   runtime \u001b[0m│\n",
      "├────────────────────────────────────────────┼────────────┼───────────┤\n",
      "│      (matrix_type = :hessian, gamma = 1.0) │ [126, 810] │ 0.0024822 │\n",
      "│     (matrix_type = :identity, gamma = 0.1) │ [126, 846] │ 0.0010563 │\n",
      "│     (matrix_type = :identity, gamma = 1.0) │ [126, 846] │ 0.0007046 │\n",
      "│   (matrix_type = :identity, gamma = 100.0) │ [126, 846] │ 0.0006941 │\n",
      "│ (matrix_type = :identity, gamma = 10000.0) │ [126, 846] │ 0.0007104 │\n",
      "└────────────────────────────────────────────┴────────────┴───────────┘\n",
      "\u001b[1mf_3p_1im2\u001b[0m\n",
      "┌────────────────────────────────────────────┬─────────────────┬───────────┐\n",
      "│\u001b[1m                                     method \u001b[0m│\u001b[1m          fevals \u001b[0m│\u001b[1m   runtime \u001b[0m│\n",
      "├────────────────────────────────────────────┼─────────────────┼───────────┤\n",
      "│      (matrix_type = :hessian, gamma = 1.0) │ [126, 486, 816] │ 0.0082847 │\n",
      "│     (matrix_type = :identity, gamma = 0.1) │ [126, 480, 840] │ 0.0011045 │\n",
      "│     (matrix_type = :identity, gamma = 1.0) │ [126, 480, 840] │  0.000965 │\n",
      "│   (matrix_type = :identity, gamma = 100.0) │ [126, 480, 840] │ 0.0009597 │\n",
      "│ (matrix_type = :identity, gamma = 10000.0) │ [126, 480, 840] │ 0.0011497 │\n",
      "└────────────────────────────────────────────┴─────────────────┴───────────┘\n",
      "\u001b[1mf_2p_1im\u001b[0m\n",
      "┌────────────────────────────────────────────┬────────────┬───────────┐\n",
      "│\u001b[1m                                     method \u001b[0m│\u001b[1m     fevals \u001b[0m│\u001b[1m   runtime \u001b[0m│\n",
      "├────────────────────────────────────────────┼────────────┼───────────┤\n",
      "│      (matrix_type = :hessian, gamma = 1.0) │ [126, 816] │ 0.0024003 │\n",
      "│     (matrix_type = :identity, gamma = 0.1) │ [126, 840] │ 0.0010327 │\n",
      "│     (matrix_type = :identity, gamma = 1.0) │ [126, 840] │ 0.0007294 │\n",
      "│   (matrix_type = :identity, gamma = 100.0) │ [126, 840] │ 0.0006984 │\n",
      "│ (matrix_type = :identity, gamma = 10000.0) │ [126, 840] │ 0.0006806 │\n",
      "└────────────────────────────────────────────┴────────────┴───────────┘\n",
      "\u001b[1mf_2p\u001b[0m\n",
      "┌────────────────────────────────────────────┬────────────┬───────────┐\n",
      "│\u001b[1m                                     method \u001b[0m│\u001b[1m     fevals \u001b[0m│\u001b[1m   runtime \u001b[0m│\n",
      "├────────────────────────────────────────────┼────────────┼───────────┤\n",
      "│      (matrix_type = :hessian, gamma = 1.0) │ [126, 126] │ 0.0013873 │\n",
      "│     (matrix_type = :identity, gamma = 0.1) │ [126, 126] │ 0.0007602 │\n",
      "│     (matrix_type = :identity, gamma = 1.0) │ [126, 126] │ 0.0004674 │\n",
      "│   (matrix_type = :identity, gamma = 100.0) │ [126, 126] │  0.000503 │\n",
      "│ (matrix_type = :identity, gamma = 10000.0) │ [126, 126] │ 0.0003913 │\n",
      "└────────────────────────────────────────────┴────────────┴───────────┘\n",
      "\u001b[1mrosenbrock\u001b[0m\n",
      "┌────────────────────────────────────────────┬──────────────────┬───────────┐\n",
      "│\u001b[1m                                     method \u001b[0m│\u001b[1m           fevals \u001b[0m│\u001b[1m   runtime \u001b[0m│\n",
      "├────────────────────────────────────────────┼──────────────────┼───────────┤\n",
      "│      (matrix_type = :hessian, gamma = 1.0) │       [126, 282] │ 0.0026982 │\n",
      "│     (matrix_type = :identity, gamma = 0.1) │      [318, 5790] │ 0.0019199 │\n",
      "│     (matrix_type = :identity, gamma = 1.0) │    [1590, 56418] │ 0.0195294 │\n",
      "│   (matrix_type = :identity, gamma = 100.0) │ [120042, 120042] │  0.106146 │\n",
      "│ (matrix_type = :identity, gamma = 10000.0) │ [120078, 120072] │ 0.0637471 │\n",
      "└────────────────────────────────────────────┴──────────────────┴───────────┘\n"
     ]
    }
   ],
   "source": [
    "for (name, infos) in funcs_dict\n",
    "    optf = OptimizationFunction(infos[:func], AutoForwardDiff())\n",
    "    optprob = OptimizationProblem(optf, infos[:optim])\n",
    "    plprob = PLProblem(\n",
    "        optprob, \n",
    "        infos[:optim], \n",
    "        infos[:profile_range]; \n",
    "        threshold = infos[:threshold]\n",
    "    )\n",
    "\n",
    "    method1 = IntegrationProfiler(integrator = integrator, integrator_opts = integrator_opts, matrix_type = :hessian)\n",
    "    method2 = IntegrationProfiler(integrator = integrator, integrator_opts = integrator_opts, matrix_type = :identity, gamma = 1e-1)\n",
    "    method3 = IntegrationProfiler(integrator = integrator, integrator_opts = integrator_opts, matrix_type = :identity, gamma = 1e+0)\n",
    "    method4 = IntegrationProfiler(integrator = integrator, integrator_opts = integrator_opts, matrix_type = :identity, gamma = 1e+2)\n",
    "    method5 = IntegrationProfiler(integrator = integrator, integrator_opts = integrator_opts, matrix_type = :identity, gamma = 1e+4)\n",
    "    methods = [method1, method2, method3, method4, method5]\n",
    "    \n",
    "    time1 = @elapsed sol1 = profile(plprob, method1)\n",
    "    time2 = @elapsed sol2 = profile(plprob, method2)\n",
    "    time3 = @elapsed sol3 = profile(plprob, method3)\n",
    "    time4 = @elapsed sol4 = profile(plprob, method4)\n",
    "    time5 = @elapsed sol5 = profile(plprob, method5)\n",
    "    sols = [sol1, sol2, sol3, sol4, sol5]\n",
    "    times = [time1, time2, time3, time4, time5]\n",
    "\n",
    "    df = []\n",
    "    for (method, sol, time) in zip(methods, sols, times)\n",
    "        push!(df, [\n",
    "            (matrix_type=method.matrix_type, gamma=method.gamma), \n",
    "            map(i -> (s=sol[i].stats; s[1].nf+s[2].nf), 1:length(sol)),\n",
    "            time\n",
    "        ])\n",
    "    end\n",
    "\n",
    "    pretty_table(\n",
    "        permutedims(reduce(hcat, df)),\n",
    "        header=[\"method\", \"fevals\", \"runtime\"],\n",
    "        title=string(name)\n",
    "    )\n",
    "end"
   ]
  },
  {
   "cell_type": "markdown",
   "id": "a9f759ee",
   "metadata": {},
   "source": [
    "- For two systems, `f_3p_1im` and `rosenbrock`, the number of function evaluations increases by a lot for larger gammas, and (seems to) lead to slower running time.\n",
    "- For other systems, the number of function evaluations is stable."
   ]
  },
  {
   "cell_type": "markdown",
   "id": "140ca88e",
   "metadata": {},
   "source": [
    "### 3. Check for SIR and Taxol"
   ]
  },
  {
   "cell_type": "code",
   "execution_count": 2,
   "id": "ce14f16e",
   "metadata": {},
   "outputs": [
    {
     "data": {
      "text/plain": [
       "NamedTuple()"
      ]
     },
     "metadata": {},
     "output_type": "display_data"
    }
   ],
   "source": [
    "integrator = FBDF(autodiff = AutoFiniteDiff())\n",
    "integrator_opts = (;)"
   ]
  },
  {
   "cell_type": "code",
   "execution_count": 6,
   "id": "d2e8b1ec",
   "metadata": {},
   "outputs": [
    {
     "name": "stdout",
     "output_type": "stream",
     "text": [
      "\u001b[0m\u001b[1mTest Summary:                                                               | \u001b[22m\u001b[32m\u001b[1mPass  \u001b[22m\u001b[39m\u001b[36m\u001b[1mTotal  \u001b[22m\u001b[39m\u001b[0m\u001b[1m   Time\u001b[22m\n",
      "Taxol model. Fixed-step OptimizationProfiler with derivative-free optimizer | \u001b[32m  17  \u001b[39m\u001b[36m   17  \u001b[39m\u001b[0m2m16.1s\n",
      "\u001b[0m\u001b[1mTest Summary:                                      | \u001b[22m\u001b[32m\u001b[1mPass  \u001b[22m\u001b[39m\u001b[36m\u001b[1mTotal  \u001b[22m\u001b[39m\u001b[0m\u001b[1m Time\u001b[22m\n",
      "Taxol model. IntegrationProfiler with full hessian | \u001b[32m  17  \u001b[39m\u001b[36m   17  \u001b[39m\u001b[0m59.1s\n"
     ]
    },
    {
     "data": {
      "text/plain": [
       "Test.DefaultTestSet(\"Taxol model. IntegrationProfiler with full hessian\", Any[], 17, false, false, true, 1.744972298195e9, 1.744972357271e9, false, \"c:\\\\data\\\\projects\\\\insysbio\\\\LikelihoodProfiler.jl\\\\test\\\\test_taxol_model.jl\")"
      ]
     },
     "metadata": {},
     "output_type": "display_data"
    }
   ],
   "source": [
    "include(joinpath(@__DIR__, \"../test/test_taxol_model.jl\"))\n"
   ]
  },
  {
   "cell_type": "code",
   "execution_count": 7,
   "id": "58b42e61",
   "metadata": {},
   "outputs": [
    {
     "data": {
      "text/plain": [
       "Profile Likelihood Problem. Profile type: parameter\n",
       "Parameters' optimal values: \n",
       "5-element Vector{Float64}:\n",
       "   8.317\n",
       "   8.0959\n",
       "   0.0582\n",
       "   1.3307\n",
       " 119.1363"
      ]
     },
     "metadata": {},
     "output_type": "display_data"
    }
   ],
   "source": [
    "include(joinpath(@__DIR__, \"../models/Taxol/taxol_model.jl\"))\n",
    "optf = OptimizationFunction(taxol_obj, Optimization.AutoForwardDiff())\n",
    "optprob = OptimizationProblem(optf, p0)\n",
    "profile_range = [\n",
    "  (2., 30.),\n",
    "  (2.0, 30.),\n",
    "  (0.01, 0.6),\n",
    "  (0.05, 5.),\n",
    "  (30., 250.)\n",
    "]\n",
    "plprob = PLProblem(optprob, p0, profile_range; threshold = sigmasq*chi2_quantile(0.95, 5))"
   ]
  },
  {
   "cell_type": "code",
   "execution_count": 8,
   "id": "aca10be9",
   "metadata": {},
   "outputs": [
    {
     "name": "stdout",
     "output_type": "stream",
     "text": [
      "IntegrationProfiler{Nothing, @NamedTuple{}, FBDF{5, 0, AutoFiniteDiff{Val{:forward}, Val{:forward}, Val{:hcentral}, Nothing, Nothing, Bool}, Nothing, NLNewton{Rational{Int64}, Rational{Int64}, Rational{Int64}, Rational{Int64}}, typeof(OrdinaryDiffEqCore.DEFAULT_PRECS), Val{:forward}(), true, nothing, Nothing, Nothing, typeof(OrdinaryDiffEqCore.trivial_limiter!)}, @NamedTuple{}}(false, nothing, NamedTuple(), FBDF{5, 0, AutoFiniteDiff{Val{:forward}, Val{:forward}, Val{:hcentral}, Nothing, Nothing, Bool}, Nothing, NLNewton{Rational{Int64}, Rational{Int64}, Rational{Int64}, Rational{Int64}}, typeof(OrdinaryDiffEqCore.DEFAULT_PRECS), Val{:forward}(), true, nothing, Nothing, Nothing, typeof(OrdinaryDiffEqCore.trivial_limiter!)}(Val{5}(), nothing, NLNewton{Rational{Int64}, Rational{Int64}, Rational{Int64}, Rational{Int64}}(1//100, 10, 1//5, 1//5, false, true, 0//1), OrdinaryDiffEqCore.DEFAULT_PRECS, nothing, nothing, :linear, :Standard, OrdinaryDiffEqCore.trivial_limiter!, AutoFiniteDiff()), NamedTuple(), :hessian, 1.0)\n",
      "  DimensionMismatch(\"a has size (157,), b has size (6,), mismatch at dim 1\")\n",
      "IntegrationProfiler{Nothing, @NamedTuple{}, FBDF{5, 0, AutoFiniteDiff{Val{:forward}, Val{:forward}, Val{:hcentral}, Nothing, Nothing, Bool}, Nothing, NLNewton{Rational{Int64}, Rational{Int64}, Rational{Int64}, Rational{Int64}}, typeof(OrdinaryDiffEqCore.DEFAULT_PRECS), Val{:forward}(), true, nothing, Nothing, Nothing, typeof(OrdinaryDiffEqCore.trivial_limiter!)}, @NamedTuple{}}(false, nothing, NamedTuple(), FBDF{5, 0, AutoFiniteDiff{Val{:forward}, Val{:forward}, Val{:hcentral}, Nothing, Nothing, Bool}, Nothing, NLNewton{Rational{Int64}, Rational{Int64}, Rational{Int64}, Rational{Int64}}, typeof(OrdinaryDiffEqCore.DEFAULT_PRECS), Val{:forward}(), true, nothing, Nothing, Nothing, typeof(OrdinaryDiffEqCore.trivial_limiter!)}(Val{5}(), nothing, NLNewton{Rational{Int64}, Rational{Int64}, Rational{Int64}, Rational{Int64}}(1//100, 10, 1//5, 1//5, false, true, 0//1), OrdinaryDiffEqCore.DEFAULT_PRECS, nothing, nothing, :linear, :Standard, OrdinaryDiffEqCore.trivial_limiter!, AutoFiniteDiff()), NamedTuple(), :identity, 0.1)\n",
      "  DimensionMismatch(\"a has size (157,), b has size (6,), mismatch at dim 1\")\n",
      "IntegrationProfiler{Nothing, @NamedTuple{}, FBDF{5, 0, AutoFiniteDiff{Val{:forward}, Val{:forward}, Val{:hcentral}, Nothing, Nothing, Bool}, Nothing, NLNewton{Rational{Int64}, Rational{Int64}, Rational{Int64}, Rational{Int64}}, typeof(OrdinaryDiffEqCore.DEFAULT_PRECS), Val{:forward}(), true, nothing, Nothing, Nothing, typeof(OrdinaryDiffEqCore.trivial_limiter!)}, @NamedTuple{}}(false, nothing, NamedTuple(), FBDF{5, 0, AutoFiniteDiff{Val{:forward}, Val{:forward}, Val{:hcentral}, Nothing, Nothing, Bool}, Nothing, NLNewton{Rational{Int64}, Rational{Int64}, Rational{Int64}, Rational{Int64}}, typeof(OrdinaryDiffEqCore.DEFAULT_PRECS), Val{:forward}(), true, nothing, Nothing, Nothing, typeof(OrdinaryDiffEqCore.trivial_limiter!)}(Val{5}(), nothing, NLNewton{Rational{Int64}, Rational{Int64}, Rational{Int64}, Rational{Int64}}(1//100, 10, 1//5, 1//5, false, true, 0//1), OrdinaryDiffEqCore.DEFAULT_PRECS, nothing, nothing, :linear, :Standard, OrdinaryDiffEqCore.trivial_limiter!, AutoFiniteDiff()), NamedTuple(), :identity, 1.0)\n",
      "  DimensionMismatch(\"a has size (157,), b has size (6,), mismatch at dim 1\")\n",
      "IntegrationProfiler{Nothing, @NamedTuple{}, FBDF{5, 0, AutoFiniteDiff{Val{:forward}, Val{:forward}, Val{:hcentral}, Nothing, Nothing, Bool}, Nothing, NLNewton{Rational{Int64}, Rational{Int64}, Rational{Int64}, Rational{Int64}}, typeof(OrdinaryDiffEqCore.DEFAULT_PRECS), Val{:forward}(), true, nothing, Nothing, Nothing, typeof(OrdinaryDiffEqCore.trivial_limiter!)}, @NamedTuple{}}(false, nothing, NamedTuple(), FBDF{5, 0, AutoFiniteDiff{Val{:forward}, Val{:forward}, Val{:hcentral}, Nothing, Nothing, Bool}, Nothing, NLNewton{Rational{Int64}, Rational{Int64}, Rational{Int64}, Rational{Int64}}, typeof(OrdinaryDiffEqCore.DEFAULT_PRECS), Val{:forward}(), true, nothing, Nothing, Nothing, typeof(OrdinaryDiffEqCore.trivial_limiter!)}(Val{5}(), nothing, NLNewton{Rational{Int64}, Rational{Int64}, Rational{Int64}, Rational{Int64}}(1//100, 10, 1//5, 1//5, false, true, 0//1), OrdinaryDiffEqCore.DEFAULT_PRECS, nothing, nothing, :linear, :Standard, OrdinaryDiffEqCore.trivial_limiter!, AutoFiniteDiff()), NamedTuple(), :identity, 100.0)\n",
      "  DimensionMismatch(\"a has size (157,), b has size (6,), mismatch at dim 1\")\n",
      "IntegrationProfiler{Nothing, @NamedTuple{}, FBDF{5, 0, AutoFiniteDiff{Val{:forward}, Val{:forward}, Val{:hcentral}, Nothing, Nothing, Bool}, Nothing, NLNewton{Rational{Int64}, Rational{Int64}, Rational{Int64}, Rational{Int64}}, typeof(OrdinaryDiffEqCore.DEFAULT_PRECS), Val{:forward}(), true, nothing, Nothing, Nothing, typeof(OrdinaryDiffEqCore.trivial_limiter!)}, @NamedTuple{}}(false, nothing, NamedTuple(), FBDF{5, 0, AutoFiniteDiff{Val{:forward}, Val{:forward}, Val{:hcentral}, Nothing, Nothing, Bool}, Nothing, NLNewton{Rational{Int64}, Rational{Int64}, Rational{Int64}, Rational{Int64}}, typeof(OrdinaryDiffEqCore.DEFAULT_PRECS), Val{:forward}(), true, nothing, Nothing, Nothing, typeof(OrdinaryDiffEqCore.trivial_limiter!)}(Val{5}(), nothing, NLNewton{Rational{Int64}, Rational{Int64}, Rational{Int64}, Rational{Int64}}(1//100, 10, 1//5, 1//5, false, true, 0//1), OrdinaryDiffEqCore.DEFAULT_PRECS, nothing, nothing, :linear, :Standard, OrdinaryDiffEqCore.trivial_limiter!, AutoFiniteDiff()), NamedTuple(), :identity, 10000.0)\n",
      "  DimensionMismatch(\"a has size (157,), b has size (6,), mismatch at dim 1\")\n"
     ]
    },
    {
     "ename": "ArgumentError",
     "evalue": "ArgumentError: reducing over an empty collection is not allowed; consider supplying `init` to the reducer",
     "output_type": "error",
     "traceback": [
      "ArgumentError: reducing over an empty collection is not allowed; consider supplying `init` to the reducer\n",
      "\n",
      "Stacktrace:\n",
      "  [1] _empty_reduce_error()\n",
      "    @ Base .\\reduce.jl:319\n",
      "  [2] reduce_empty(f::Function, T::Type)\n",
      "    @ Base .\\reduce.jl:320\n",
      "  [3] mapreduce_empty(::typeof(identity), op::Function, T::Type)\n",
      "    @ Base .\\reduce.jl:369\n",
      "  [4] reduce_empty(op::Base.MappingRF{typeof(identity), typeof(hcat)}, ::Type{Any})\n",
      "    @ Base .\\reduce.jl:358\n",
      "  [5] reduce_empty_iter\n",
      "    @ .\\reduce.jl:381 [inlined]\n",
      "  [6] mapreduce_empty_iter(f::Function, op::Function, itr::Vector{Any}, ItrEltype::Base.HasEltype)\n",
      "    @ Base .\\reduce.jl:377\n",
      "  [7] _mapreduce(f::typeof(identity), op::typeof(hcat), ::IndexLinear, A::Vector{Any})\n",
      "    @ Base .\\reduce.jl:429\n",
      "  [8] _mapreduce_dim(f::Function, op::Function, ::Base._InitialValue, A::Vector{Any}, ::Colon)\n",
      "    @ Base .\\reducedim.jl:337\n",
      "  [9] mapreduce\n",
      "    @ .\\reducedim.jl:329 [inlined]\n",
      " [10] reduce(op::Function, A::Vector{Any})\n",
      "    @ Base .\\reducedim.jl:378\n",
      " [11] top-level scope\n",
      "    @ c:\\data\\projects\\insysbio\\LikelihoodProfiler.jl\\reports\\jl_notebook_cell_df34fa98e69747e1a8f8a730347b8e2f_X25sZmlsZQ==.jl:29"
     ]
    }
   ],
   "source": [
    "method1 = IntegrationProfiler(integrator = integrator, integrator_opts = integrator_opts, matrix_type = :hessian)\n",
    "method2 = IntegrationProfiler(integrator = integrator, integrator_opts = integrator_opts, matrix_type = :identity, gamma = 1e-1)\n",
    "method3 = IntegrationProfiler(integrator = integrator, integrator_opts = integrator_opts, matrix_type = :identity, gamma = 1e+0)\n",
    "method4 = IntegrationProfiler(integrator = integrator, integrator_opts = integrator_opts, matrix_type = :identity, gamma = 1e+2)\n",
    "method5 = IntegrationProfiler(integrator = integrator, integrator_opts = integrator_opts, matrix_type = :identity, gamma = 1e+4)\n",
    "methods = [method1, method2, method3, method4, method5]\n",
    "\n",
    "sols = []\n",
    "times = []\n",
    "for method in methods\n",
    "    try\n",
    "        time = @elapsed sol = profile(plprob, method)\n",
    "        push!(sols, sol)\n",
    "        push!(times, time)\n",
    "    catch e\n",
    "        println(method, \"\\n  \", e)\n",
    "    end\n",
    "end\n",
    "\n",
    "df = []\n",
    "for (method, sol, time) in zip(methods, sols, times)\n",
    "    push!(df, [\n",
    "        (matrix_type=method.matrix_type, gamma=method.gamma), \n",
    "        map(i -> (s=sol[i].stats; s[1].nf+s[2].nf), 1:length(sol)),\n",
    "        time\n",
    "    ])\n",
    "end\n",
    "\n",
    "pretty_table(\n",
    "    permutedims(reduce(hcat, df)),\n",
    "    header=[\"method\", \"fevals\", \"runtime\"],\n",
    "    title=string(\"Taxol\")\n",
    ")"
   ]
  },
  {
   "cell_type": "code",
   "execution_count": null,
   "id": "1a044eb6",
   "metadata": {},
   "outputs": [],
   "source": []
  },
  {
   "cell_type": "code",
   "execution_count": null,
   "id": "bd506c15",
   "metadata": {},
   "outputs": [],
   "source": []
  }
 ],
 "metadata": {
  "kernelspec": {
   "display_name": "Julia 1.11.2",
   "language": "julia",
   "name": "julia-1.11"
  },
  "language_info": {
   "file_extension": ".jl",
   "mimetype": "application/julia",
   "name": "julia",
   "version": "1.11.2"
  }
 },
 "nbformat": 4,
 "nbformat_minor": 5
}
