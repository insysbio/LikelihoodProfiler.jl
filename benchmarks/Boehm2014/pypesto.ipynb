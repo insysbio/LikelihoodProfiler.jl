{
 "cells": [
  {
   "cell_type": "code",
   "execution_count": 1,
   "metadata": {},
   "outputs": [],
   "source": [
    "# 1. Import packages\n",
    "import amici\n",
    "import matplotlib as mpl\n",
    "import numpy as np\n",
    "import petab\n",
    "import logging\n",
    "\n",
    "import pypesto.optimize as optimize\n",
    "import pypesto.petab\n",
    "import pypesto.profile as profile\n",
    "import pypesto.sample as sample\n",
    "import pypesto.store as store\n",
    "import pypesto.visualize as visualize\n",
    "import pypesto.visualize.model_fit as model_fit\n",
    "import pypesto\n",
    "\n",
    "# Set seed for reproducibility\n",
    "np.random.seed(1912)"
   ]
  },
  {
   "cell_type": "code",
   "execution_count": 2,
   "metadata": {},
   "outputs": [],
   "source": [
    "# 2. Import the model\n",
    "model_name = \"Boehm_JProteomeRes2014\"\n",
    "# change path if needed\n",
    "petab_yaml = f\"../../models/{model_name}/{model_name}.yaml\"\n",
    "petab_problem = petab.Problem.from_yaml(petab_yaml)\n",
    "importer = pypesto.petab.PetabImporter(petab_problem)\n",
    "problem = importer.create_problem(verbose=False)"
   ]
  },
  {
   "cell_type": "code",
   "execution_count": null,
   "metadata": {},
   "outputs": [
    {
     "data": {
      "text/plain": [
       "1e-16"
      ]
     },
     "execution_count": 4,
     "metadata": {},
     "output_type": "execute_result"
    }
   ],
   "source": [
    ".amici_solver.getAproblem.objectivebsoluteTolerance()"
   ]
  },
  {
   "cell_type": "code",
   "execution_count": 8,
   "metadata": {},
   "outputs": [
    {
     "data": {
      "text/plain": [
       "array([-1.56891759, -4.99970489, -2.20969878, -1.78600655,  4.99011401,\n",
       "        4.19773549, -0.15926677,  0.58575527,  0.81898282,  0.4986844 ,\n",
       "       -0.97061622])"
      ]
     },
     "execution_count": 8,
     "metadata": {},
     "output_type": "execute_result"
    }
   ],
   "source": [
    "x_nominal"
   ]
  },
  {
   "cell_type": "code",
   "execution_count": null,
   "metadata": {},
   "outputs": [
    {
     "ename": "TypeError",
     "evalue": "'NoHistory' object is not callable",
     "output_type": "error",
     "traceback": [
      "\u001b[31m---------------------------------------------------------------------------\u001b[39m",
      "\u001b[31mTypeError\u001b[39m                                 Traceback (most recent call last)",
      "\u001b[36mCell\u001b[39m\u001b[36m \u001b[39m\u001b[32mIn[14]\u001b[39m\u001b[32m, line 1\u001b[39m\n\u001b[32m----> \u001b[39m\u001b[32m1\u001b[39m \u001b[43mproblem\u001b[49m\u001b[43m.\u001b[49m\u001b[43mobjective\u001b[49m\u001b[43m.\u001b[49m\u001b[43mhistory\u001b[49m\u001b[43m(\u001b[49m\u001b[43m)\u001b[49m\n",
      "\u001b[31mTypeError\u001b[39m: 'NoHistory' object is not callable"
     ]
    }
   ],
   "source": [
    "problem.objective.history"
   ]
  },
  {
   "cell_type": "code",
   "execution_count": 7,
   "metadata": {},
   "outputs": [
    {
     "data": {
      "text/plain": [
       "138.22199760826"
      ]
     },
     "execution_count": 7,
     "metadata": {},
     "output_type": "execute_result"
    }
   ],
   "source": [
    "x_nominal = np.array(np.log10(petab_problem.parameter_df[\"nominalValue\"]))\n",
    "\n",
    "x_nominal[problem.x_free_indices]\n",
    "\n",
    "problem.objective.get_fval(x_nominal[problem.x_free_indices])"
   ]
  },
  {
   "cell_type": "code",
   "execution_count": 11,
   "metadata": {},
   "outputs": [
    {
     "data": {
      "text/plain": [
       "11904.377881195065"
      ]
     },
     "execution_count": 11,
     "metadata": {},
     "output_type": "execute_result"
    }
   ],
   "source": [
    "_x = np.random.rand(9)\n",
    "problem.objective.get_fval(_x)"
   ]
  },
  {
   "cell_type": "code",
   "execution_count": 12,
   "metadata": {},
   "outputs": [
    {
     "data": {
      "text/plain": [
       "array([0.01421781, 0.58872205, 0.84632387, 0.45772748, 0.79750106,\n",
       "       0.45531401, 0.30382355, 0.91952692, 0.43180823])"
      ]
     },
     "execution_count": 12,
     "metadata": {},
     "output_type": "execute_result"
    }
   ],
   "source": [
    "_x"
   ]
  },
  {
   "cell_type": "code",
   "execution_count": null,
   "metadata": {},
   "outputs": [],
   "source": [
    "# problem.objective.amici_solver.setAbsoluteTolerance(1e-3)\n",
    "# problem.objective.amici_solver.setAbsoluteToleranceB(1e-3)\n",
    "# problem.objective.amici_solver.setRelativeTolerance(1e-6)\n",
    "# problem.objective.amici_solver.setRelativeToleranceB(1e-6)"
   ]
  },
  {
   "cell_type": "code",
   "execution_count": 5,
   "metadata": {},
   "outputs": [
    {
     "data": {
      "text/plain": [
       "(1e-16, 1e-08)"
      ]
     },
     "execution_count": 5,
     "metadata": {},
     "output_type": "execute_result"
    }
   ],
   "source": [
    "problem.objective.amici_solver.getAbsoluteToleranceB(), \\\n",
    "    problem.objective.amici_solver.getRelativeToleranceB()"
   ]
  },
  {
   "cell_type": "code",
   "execution_count": 15,
   "metadata": {},
   "outputs": [],
   "source": [
    "# 3. Setup optimizers\n",
    "# optimizer_options = {\"maxiter\": 1e4, \"fatol\": 1e-12, \"frtol\": 1e-12}\n",
    "optimizer_options = {}\n",
    "# optimizer = optimize.FidesOptimizer(\n",
    "#     options=optimizer_options, verbose=logging.WARN\n",
    "# )\n",
    "# optimizer = optimize.FidesOptimizer(options=optimizer_options, verbose=logging.WARN)\n",
    "optimizer_scipy_lbfgsb = optimize.ScipyOptimizer(method=\"L-BFGS-B\")\n",
    "optimizer_scipy_powell = optimize.ScipyOptimizer(method=\"Powell\")\n",
    "n_starts = 1\n",
    "opt_options = optimize.OptimizeOptions()\n",
    "engine = pypesto.engine.SingleCoreEngine()\n"
   ]
  },
  {
   "cell_type": "code",
   "execution_count": null,
   "metadata": {},
   "outputs": [
    {
     "data": {
      "text/plain": [
       "array([-1.56891759, -4.99970489, -2.20969878, -1.78600655,  4.99011401,\n",
       "        4.19773549, -0.15926677,  0.58575527,  0.81898282,  0.4986844 ,\n",
       "       -0.97061622])"
      ]
     },
     "execution_count": 5,
     "metadata": {},
     "output_type": "execute_result"
    }
   ],
   "source": [
    "x_nominal = np.array(np.log10(petab_problem.parameter_df[\"nominalValue\"]))\n",
    "x_nominal"
   ]
  },
  {
   "cell_type": "code",
   "execution_count": 16,
   "metadata": {},
   "outputs": [
    {
     "data": {
      "text/plain": [
       "array([[-1.56891759, -4.99970489, -2.20969878, -1.78600655,  4.99011401,\n",
       "         4.19773549,  0.58575527,  0.81898282,  0.4986844 ]])"
      ]
     },
     "execution_count": 16,
     "metadata": {},
     "output_type": "execute_result"
    }
   ],
   "source": [
    "from pypesto.startpoint import FunctionStartpoints\n",
    "startpoint = FunctionStartpoints(lambda n_starts, lb, ub: x_nominal[problem.x_free_indices])\n",
    "\n",
    "startpoint(n_starts=n_starts, problem=problem)"
   ]
  },
  {
   "cell_type": "code",
   "execution_count": 44,
   "metadata": {},
   "outputs": [
    {
     "name": "stderr",
     "output_type": "stream",
     "text": [
      "/tmp/ipykernel_6001/3026448988.py:2: DeprecationWarning: Passing `startpoint_method` directly is deprecated, use `problem.startpoint_method` instead.\n",
      "  result = optimize.minimize(\n",
      "100%|██████████| 1/1 [00:00<00:00,  1.27it/s]\n"
     ]
    },
    {
     "data": {
      "text/plain": [
       "{'id': '0',\n",
       " 'x': array([-1.56893645, -4.99995426, -2.20982697, -1.78598774,  4.93819434,\n",
       "         4.19774995,  0.693     ,  0.58567747,  0.81884367,  0.49857269,\n",
       "         0.107     ]),\n",
       " 'fval': 138.2219813672065,\n",
       " 'grad': None,\n",
       " 'hess': None,\n",
       " 'res': None,\n",
       " 'sres': None,\n",
       " 'n_fval': 161,\n",
       " 'n_grad': 0,\n",
       " 'n_hess': 0,\n",
       " 'n_res': 0,\n",
       " 'n_sres': 0,\n",
       " 'x0': array([-1.56891759, -4.99970489, -2.20969878, -1.78600655,  4.99011401,\n",
       "         4.19773549,  0.693     ,  0.58575527,  0.81898282,  0.4986844 ,\n",
       "         0.107     ]),\n",
       " 'fval0': 138.22199760826,\n",
       " 'history': <pypesto.history.base.CountHistory at 0x7fe0ec522360>,\n",
       " 'exitflag': 0,\n",
       " 'time': 0.7741098403930664,\n",
       " 'message': 'Optimization terminated successfully.',\n",
       " 'optimizer': \"<ScipyOptimizer method=Powell options={'disp': False, 'maxfev': 1000}>\",\n",
       " 'free_indices': array([0, 1, 2, 3, 4, 5, 7, 8, 9]),\n",
       " 'inner_parameters': None,\n",
       " 'spline_knots': None}"
      ]
     },
     "execution_count": 44,
     "metadata": {},
     "output_type": "execute_result"
    }
   ],
   "source": [
    "# 4. Minimize\n",
    "result = optimize.minimize(\n",
    "    problem=problem,\n",
    "    optimizer=optimizer_scipy_powell,\n",
    "    n_starts=n_starts,\n",
    "    engine=engine,\n",
    "    options=opt_options,\n",
    "    startpoint_method=startpoint,\n",
    ")\n",
    "\n",
    "res = result.optimize_result.as_list()[0]\n",
    "res"
   ]
  },
  {
   "cell_type": "code",
   "execution_count": 45,
   "metadata": {},
   "outputs": [
    {
     "name": "stderr",
     "output_type": "stream",
     "text": [
      "  0%|          | 0/1 [00:00<?, ?it/s]Next guess for Epo_degradation_BaF3 in direction -1 is -1.5789. Step size: -0.0100.\n",
      "Optimization successful for Epo_degradation_BaF3=-1.5789. Start fval 138.332578, end fval 138.229855.\n",
      "Next guess for Epo_degradation_BaF3 in direction -1 is -1.5889. Step size: -0.0100.\n",
      "Optimization successful for Epo_degradation_BaF3=-1.5889. Start fval 138.360369, end fval 138.250741.\n",
      "Next guess for Epo_degradation_BaF3 in direction -1 is -1.5989. Step size: -0.0100.\n",
      "Optimization successful for Epo_degradation_BaF3=-1.5989. Start fval 138.394874, end fval 138.286101.\n",
      "Next guess for Epo_degradation_BaF3 in direction -1 is -1.6089. Step size: -0.0100.\n",
      "Optimization successful for Epo_degradation_BaF3=-1.6089. Start fval 138.446988, end fval 138.336547.\n",
      "Next guess for Epo_degradation_BaF3 in direction -1 is -1.6189. Step size: -0.0100.\n",
      "Optimization successful for Epo_degradation_BaF3=-1.6189. Start fval 138.510786, end fval 138.402077.\n",
      "Next guess for Epo_degradation_BaF3 in direction -1 is -1.6289. Step size: -0.0100.\n",
      "Optimization successful for Epo_degradation_BaF3=-1.6289. Start fval 138.593285, end fval 138.483233.\n",
      "Next guess for Epo_degradation_BaF3 in direction -1 is -1.6389. Step size: -0.0100.\n",
      "Optimization successful for Epo_degradation_BaF3=-1.6389. Start fval 138.688582, end fval 138.580330.\n",
      "Next guess for Epo_degradation_BaF3 in direction -1 is -1.6489. Step size: -0.0100.\n",
      "Optimization successful for Epo_degradation_BaF3=-1.6489. Start fval 138.801076, end fval 138.693674.\n",
      "Next guess for Epo_degradation_BaF3 in direction -1 is -1.6589. Step size: -0.0100.\n",
      "Optimization successful for Epo_degradation_BaF3=-1.6589. Start fval 138.929717, end fval 138.823500.\n",
      "Next guess for Epo_degradation_BaF3 in direction -1 is -1.6689. Step size: -0.0100.\n",
      "Optimization successful for Epo_degradation_BaF3=-1.6689. Start fval 139.074832, end fval 138.969941.\n",
      "Next guess for Epo_degradation_BaF3 in direction -1 is -1.6789. Step size: -0.0100.\n",
      "Optimization successful for Epo_degradation_BaF3=-1.6789. Start fval 139.237064, end fval 139.132985.\n",
      "Next guess for Epo_degradation_BaF3 in direction -1 is -1.6889. Step size: -0.0100.\n",
      "Optimization successful for Epo_degradation_BaF3=-1.6889. Start fval 139.414384, end fval 139.312353.\n",
      "Next guess for Epo_degradation_BaF3 in direction -1 is -1.6989. Step size: -0.0100.\n",
      "Optimization successful for Epo_degradation_BaF3=-1.6989. Start fval 139.606821, end fval 139.507704.\n",
      "Next guess for Epo_degradation_BaF3 in direction -1 is -1.7089. Step size: -0.0100.\n",
      "Optimization successful for Epo_degradation_BaF3=-1.7089. Start fval 139.815756, end fval 139.718390.\n",
      "Next guess for Epo_degradation_BaF3 in direction -1 is -1.7189. Step size: -0.0100.\n",
      "Optimization successful for Epo_degradation_BaF3=-1.7189. Start fval 140.038744, end fval 139.943643.\n",
      "Next guess for Epo_degradation_BaF3 in direction -1 is -1.7289. Step size: -0.0100.\n",
      "Optimization successful for Epo_degradation_BaF3=-1.7289. Start fval 140.275613, end fval 140.182468.\n",
      "Next guess for Epo_degradation_BaF3 in direction 1 is -1.5589. Step size: 0.0100.\n",
      "Optimization successful for Epo_degradation_BaF3=-1.5589. Start fval 138.331364, end fval 138.230216.\n",
      "Next guess for Epo_degradation_BaF3 in direction 1 is -1.5489. Step size: 0.0100.\n",
      "Optimization successful for Epo_degradation_BaF3=-1.5489. Start fval 138.355996, end fval 138.270653.\n",
      "Next guess for Epo_degradation_BaF3 in direction 1 is -1.5389. Step size: 0.0100.\n",
      "Optimization successful for Epo_degradation_BaF3=-1.5389. Start fval 138.396584, end fval 138.285691.\n",
      "Next guess for Epo_degradation_BaF3 in direction 1 is -1.5289. Step size: 0.0100.\n",
      "Optimization successful for Epo_degradation_BaF3=-1.5289. Start fval 138.427450, end fval 138.341220.\n",
      "Next guess for Epo_degradation_BaF3 in direction 1 is -1.5189. Step size: 0.0100.\n",
      "Optimization successful for Epo_degradation_BaF3=-1.5189. Start fval 138.515233, end fval 138.397602.\n",
      "Next guess for Epo_degradation_BaF3 in direction 1 is -1.5089. Step size: 0.0100.\n",
      "Optimization successful for Epo_degradation_BaF3=-1.5089. Start fval 138.562690, end fval 138.474211.\n",
      "Next guess for Epo_degradation_BaF3 in direction 1 is -1.4989. Step size: 0.0100.\n",
      "Optimization successful for Epo_degradation_BaF3=-1.4989. Start fval 138.653357, end fval 138.567383.\n",
      "Next guess for Epo_degradation_BaF3 in direction 1 is -1.4889. Step size: 0.0100.\n",
      "Optimization successful for Epo_degradation_BaF3=-1.4889. Start fval 138.771891, end fval 138.688231.\n",
      "Next guess for Epo_degradation_BaF3 in direction 1 is -1.4789. Step size: 0.0100.\n",
      "Optimization successful for Epo_degradation_BaF3=-1.4789. Start fval 138.873893, end fval 138.789291.\n",
      "Next guess for Epo_degradation_BaF3 in direction 1 is -1.4689. Step size: 0.0100.\n",
      "Optimization successful for Epo_degradation_BaF3=-1.4689. Start fval 139.001792, end fval 138.925743.\n",
      "Next guess for Epo_degradation_BaF3 in direction 1 is -1.4589. Step size: 0.0100.\n",
      "Optimization successful for Epo_degradation_BaF3=-1.4589. Start fval 139.148283, end fval 139.069257.\n",
      "Next guess for Epo_degradation_BaF3 in direction 1 is -1.4489. Step size: 0.0100.\n",
      "Optimization successful for Epo_degradation_BaF3=-1.4489. Start fval 139.305303, end fval 139.236310.\n",
      "Next guess for Epo_degradation_BaF3 in direction 1 is -1.4389. Step size: 0.0100.\n",
      "Optimization successful for Epo_degradation_BaF3=-1.4389. Start fval 139.495811, end fval 139.405097.\n",
      "Next guess for Epo_degradation_BaF3 in direction 1 is -1.4289. Step size: 0.0100.\n",
      "Optimization successful for Epo_degradation_BaF3=-1.4289. Start fval 139.663544, end fval 139.596847.\n",
      "Next guess for Epo_degradation_BaF3 in direction 1 is -1.4189. Step size: 0.0100.\n",
      "Optimization successful for Epo_degradation_BaF3=-1.4189. Start fval 139.858569, end fval 139.800014.\n",
      "Next guess for Epo_degradation_BaF3 in direction 1 is -1.4089. Step size: 0.0100.\n",
      "Optimization successful for Epo_degradation_BaF3=-1.4089. Start fval 140.070320, end fval 140.014443.\n",
      "Next guess for Epo_degradation_BaF3 in direction 1 is -1.3989. Step size: 0.0100.\n",
      "Optimization successful for Epo_degradation_BaF3=-1.3989. Start fval 140.293181, end fval 140.245153.\n",
      "100%|██████████| 1/1 [00:20<00:00, 20.65s/it]\n"
     ]
    }
   ],
   "source": [
    "profile_options = pypesto.profile.ProfileOptions(\n",
    "    default_step_size=0.01, \n",
    "    reg_order=0\n",
    ")\n",
    "\n",
    "# 5. Profile!\n",
    "result = pypesto.profile.parameter_profile(\n",
    "    problem=problem,\n",
    "    result=result,\n",
    "    optimizer=optimizer_scipy_powell,\n",
    "    engine=engine,\n",
    "    profile_options=profile_options,\n",
    "    next_guess_method='fixed_step',\n",
    "    profile_index=[0]\n",
    ")"
   ]
  },
  {
   "cell_type": "code",
   "execution_count": 50,
   "metadata": {},
   "outputs": [
    {
     "data": {
      "text/plain": [
       "{'x_path': array([[-1.72893645, -1.71893645, -1.70893645, -1.69893645, -1.68893645,\n",
       "         -1.67893645, -1.66893645, -1.65893645, -1.64893645, -1.63893645,\n",
       "         -1.62893645, -1.61893645, -1.60893645, -1.59893645, -1.58893645,\n",
       "         -1.57893645, -1.56893645, -1.55893645, -1.54893645, -1.53893645,\n",
       "         -1.52893645, -1.51893645, -1.50893645, -1.49893645, -1.48893645,\n",
       "         -1.47893645, -1.46893645, -1.45893645, -1.44893645, -1.43893645,\n",
       "         -1.42893645, -1.41893645, -1.40893645, -1.39893645],\n",
       "        [-4.99996567, -4.99996289, -4.99996024, -4.99993711, -4.99995541,\n",
       "         -4.9999533 , -4.99993336, -4.99995414, -4.99994387, -4.99993728,\n",
       "         -4.99996476, -4.99995926, -4.99995257, -4.99995012, -4.99994611,\n",
       "         -4.99994189, -4.99995426, -4.99993411, -4.99994174, -4.99995311,\n",
       "         -4.99993403, -4.99995418, -4.99995446, -4.99993063, -4.99993673,\n",
       "         -4.99995576, -4.99993394, -4.99995739, -4.99993709, -4.9999582 ,\n",
       "         -4.99993345, -4.99993473, -4.99993472, -4.99993496],\n",
       "        [-2.37101766, -2.35362672, -2.33716149, -2.32110466, -2.30641437,\n",
       "         -2.29306789, -2.28077638, -2.26918853, -2.25855458, -2.24910028,\n",
       "         -2.24031231, -2.23233242, -2.22452337, -2.21897037, -2.21246282,\n",
       "         -2.2078612 , -2.20982697, -2.21359374, -2.23582216, -2.20487357,\n",
       "         -2.21814167, -2.20537774, -2.20583268, -2.20105621, -2.23945561,\n",
       "         -2.21400706, -2.23076556, -2.22277297, -2.24369942, -2.23906037,\n",
       "         -2.25577062, -2.26641057, -2.27540466, -2.28723438],\n",
       "        [-1.67355503, -1.67989991, -1.68635334, -1.69295736, -1.69969767,\n",
       "         -1.70655443, -1.71354764, -1.72055158, -1.72768651, -1.73489257,\n",
       "         -1.74216002, -1.7495335 , -1.75703389, -1.76422336, -1.77185769,\n",
       "         -1.77934255, -1.78598774, -1.79286536, -1.79885994, -1.8075997 ,\n",
       "         -1.81201458, -1.82122276, -1.82767791, -1.83429847, -1.83808231,\n",
       "         -1.8464977 , -1.85089322, -1.85785782, -1.86064111, -1.86768981,\n",
       "         -1.87132919, -1.87537188, -1.87943065, -1.88190362],\n",
       "        [ 4.97298887,  4.92745557,  4.95899397,  4.96633541,  4.92709579,\n",
       "          4.89206655,  4.90403607,  4.94734469,  4.91747303,  4.97754651,\n",
       "          4.97915946,  4.97408718,  4.99227647,  4.81188328,  4.98816666,\n",
       "          4.94707313,  4.93819434,  4.93349573,  4.9900948 ,  4.91600895,\n",
       "          4.97975037,  4.97519803,  4.96550158,  4.87670282,  4.97921669,\n",
       "          4.9778448 ,  4.99287894,  4.9689142 ,  4.93655537,  4.99999348,\n",
       "          4.98577169,  4.97563961,  4.95317113,  4.94951429],\n",
       "        [ 4.18926303,  4.18978745,  4.19038063,  4.19091647,  4.19139243,\n",
       "          4.19205681,  4.19241909,  4.19295676,  4.19346788,  4.1940313 ,\n",
       "          4.1945854 ,  4.19514884,  4.19519007,  4.19650812,  4.19638435,\n",
       "          4.19679306,  4.19774995,  4.19740043,  4.19736207,  4.19972053,\n",
       "          4.20214963,  4.2020229 ,  4.20380732,  4.20457452,  4.20529015,\n",
       "          4.20824967,  4.20930799,  4.21213822,  4.21294867,  4.21565677,\n",
       "          4.21744002,  4.21935288,  4.22164879,  4.22352166],\n",
       "        [ 0.693     ,  0.693     ,  0.693     ,  0.693     ,  0.693     ,\n",
       "          0.693     ,  0.693     ,  0.693     ,  0.693     ,  0.693     ,\n",
       "          0.693     ,  0.693     ,  0.693     ,  0.693     ,  0.693     ,\n",
       "          0.693     ,  0.693     ,  0.693     ,  0.693     ,  0.693     ,\n",
       "          0.693     ,  0.693     ,  0.693     ,  0.693     ,  0.693     ,\n",
       "          0.693     ,  0.693     ,  0.693     ,  0.693     ,  0.693     ,\n",
       "          0.693     ,  0.693     ,  0.693     ,  0.693     ],\n",
       "        [ 0.61001095,  0.60718383,  0.60452034,  0.60201412,  0.59970137,\n",
       "          0.59762665,  0.59549631,  0.59362866,  0.59201885,  0.59066677,\n",
       "          0.58950587,  0.5886545 ,  0.58816703,  0.5875075 ,  0.58768587,\n",
       "          0.58750767,  0.58567747,  0.58407691,  0.58172108,  0.58665413,\n",
       "          0.58429005,  0.58852069,  0.58998309,  0.59070081,  0.58926623,\n",
       "          0.59484691,  0.59461359,  0.59917395,  0.59860202,  0.60277583,\n",
       "          0.60434036,  0.60650618,  0.60933212,  0.61123697],\n",
       "        [ 0.82793945,  0.82684202,  0.82577431,  0.82478052,  0.82380073,\n",
       "          0.8228143 ,  0.82203236,  0.82133143,  0.82066509,  0.82005322,\n",
       "          0.81953946,  0.81904022,  0.81850475,  0.81839194,  0.81781672,\n",
       "          0.81772959,  0.81884367,  0.81978636,  0.82063865,  0.81958383,\n",
       "          0.8220167 ,  0.82050308,  0.82107038,  0.82252167,  0.82337696,\n",
       "          0.82341857,  0.82512128,  0.82547295,  0.82718609,  0.82840044,\n",
       "          0.82990003,  0.83156472,  0.8331147 ,  0.83457584],\n",
       "        [ 0.51837258,  0.51581617,  0.51343363,  0.51108859,  0.50908268,\n",
       "          0.50739609,  0.50587591,  0.5044681 ,  0.50321919,  0.50213056,\n",
       "          0.50117053,  0.50031906,  0.49922043,  0.49896755,  0.49808728,\n",
       "          0.49769962,  0.49857269,  0.4994538 ,  0.50205457,  0.49904471,\n",
       "          0.50101028,  0.49937864,  0.49926156,  0.49885663,  0.50313488,\n",
       "          0.5007433 ,  0.50246817,  0.50190907,  0.50485153,  0.50421779,\n",
       "          0.50617996,  0.50787556,  0.50929987,  0.51192188],\n",
       "        [ 0.107     ,  0.107     ,  0.107     ,  0.107     ,  0.107     ,\n",
       "          0.107     ,  0.107     ,  0.107     ,  0.107     ,  0.107     ,\n",
       "          0.107     ,  0.107     ,  0.107     ,  0.107     ,  0.107     ,\n",
       "          0.107     ,  0.107     ,  0.107     ,  0.107     ,  0.107     ,\n",
       "          0.107     ,  0.107     ,  0.107     ,  0.107     ,  0.107     ,\n",
       "          0.107     ,  0.107     ,  0.107     ,  0.107     ,  0.107     ,\n",
       "          0.107     ,  0.107     ,  0.107     ,  0.107     ]]),\n",
       " 'fval_path': array([140.18246828, 139.94364292, 139.71839037, 139.5077044 ,\n",
       "        139.31235321, 139.13298451, 138.96994126, 138.82350049,\n",
       "        138.69367414, 138.58032971, 138.48323288, 138.40207691,\n",
       "        138.33654745, 138.28610056, 138.25074106, 138.22985485,\n",
       "        138.22198137, 138.23021567, 138.27065277, 138.28569058,\n",
       "        138.34122039, 138.39760165, 138.47421067, 138.56738349,\n",
       "        138.68823124, 138.78929134, 138.92574265, 139.0692568 ,\n",
       "        139.23630952, 139.40509671, 139.59684661, 139.80001365,\n",
       "        140.0144435 , 140.24515333]),\n",
       " 'ratio_path': array([0.14078985, 0.17876887, 0.22393286, 0.27645063, 0.3360915 ,\n",
       "        0.40212064, 0.47333121, 0.54797856, 0.62394517, 0.6988296 ,\n",
       "        0.77008721, 0.83519041, 0.89175301, 0.9378932 , 0.97164993,\n",
       "        0.99215743, 1.        , 0.99179951, 0.95249407, 0.9382778 ,\n",
       "        0.88759562, 0.83893648, 0.77706653, 0.70793562, 0.62735051,\n",
       "        0.56704876, 0.49472101, 0.42858104, 0.36264599, 0.30632295,\n",
       "        0.25287367, 0.2063808 , 0.1665496 , 0.13223535]),\n",
       " 'gradnorm_path': array([nan, nan, nan, nan, nan, nan, nan, nan, nan, nan, nan, nan, nan,\n",
       "        nan, nan, nan, nan, nan, nan, nan, nan, nan, nan, nan, nan, nan,\n",
       "        nan, nan, nan, nan, nan, nan, nan, nan]),\n",
       " 'exitflag_path': array([0, 0, 0, 0, 0, 0, 0, 0, 0, 0, 0, 0, 0, 0, 0, 0, 0, 0, 1, 0, 0, 0,\n",
       "        0, 1, 0, 0, 0, 0, 0, 0, 0, 0, 0, 0]),\n",
       " 'time_path': array([0.47849011, 0.4757812 , 0.47548985, 0.5712831 , 0.50140214,\n",
       "        0.46549344, 0.73460007, 0.59666467, 0.38882542, 0.37654233,\n",
       "        0.41934156, 0.43124223, 0.43990803, 0.44248843, 0.64256215,\n",
       "        0.65855598, 0.        , 0.42368031, 1.30365753, 0.60552549,\n",
       "        0.48152208, 0.63526607, 0.72037148, 1.67650819, 1.08196378,\n",
       "        0.68775821, 0.45744848, 0.98197484, 0.50671196, 0.74018693,\n",
       "        0.42979431, 0.4721694 , 0.50109649, 0.54578257]),\n",
       " 'color_path': array([[0, 0, 0, 1],\n",
       "        [0, 0, 0, 1],\n",
       "        [0, 0, 0, 1],\n",
       "        [0, 0, 0, 1],\n",
       "        [0, 0, 0, 1],\n",
       "        [0, 0, 0, 1],\n",
       "        [0, 0, 0, 1],\n",
       "        [0, 0, 0, 1],\n",
       "        [0, 0, 0, 1],\n",
       "        [0, 0, 0, 1],\n",
       "        [0, 0, 0, 1],\n",
       "        [0, 0, 0, 1],\n",
       "        [0, 0, 0, 1],\n",
       "        [0, 0, 0, 1],\n",
       "        [0, 0, 0, 1],\n",
       "        [0, 0, 0, 1],\n",
       "        [1, 0, 0, 1],\n",
       "        [0, 0, 0, 1],\n",
       "        [0, 0, 0, 1],\n",
       "        [0, 0, 0, 1],\n",
       "        [0, 0, 0, 1],\n",
       "        [0, 0, 0, 1],\n",
       "        [0, 0, 0, 1],\n",
       "        [0, 0, 0, 1],\n",
       "        [0, 0, 0, 1],\n",
       "        [0, 0, 0, 1],\n",
       "        [0, 0, 0, 1],\n",
       "        [0, 0, 0, 1],\n",
       "        [0, 0, 0, 1],\n",
       "        [0, 0, 0, 1],\n",
       "        [0, 0, 0, 1],\n",
       "        [0, 0, 0, 1],\n",
       "        [0, 0, 0, 1],\n",
       "        [0, 0, 0, 1]]),\n",
       " 'time_total': 20.350088834762573,\n",
       " 'n_fval': 12754,\n",
       " 'n_grad': 0,\n",
       " 'n_hess': 0,\n",
       " 'message': None}"
      ]
     },
     "execution_count": 50,
     "metadata": {},
     "output_type": "execute_result"
    }
   ],
   "source": [
    "result.profile_result.list[0][0]"
   ]
  },
  {
   "cell_type": "code",
   "execution_count": 46,
   "metadata": {},
   "outputs": [
    {
     "name": "stdout",
     "output_type": "stream",
     "text": [
      "-1.728936448495398\n",
      "-1.718936448495398\n",
      "-1.708936448495398\n",
      "-1.698936448495398\n",
      "-1.688936448495398\n",
      "-1.678936448495398\n",
      "-1.668936448495398\n",
      "-1.658936448495398\n",
      "-1.6489364484953979\n",
      "-1.6389364484953979\n",
      "-1.6289364484953979\n",
      "-1.6189364484953979\n",
      "-1.6089364484953979\n",
      "-1.5989364484953978\n",
      "-1.5889364484953978\n",
      "-1.5789364484953978\n",
      "-1.5689364484953978\n",
      "-1.5589364484953978\n",
      "-1.5489364484953978\n",
      "-1.5389364484953978\n",
      "-1.5289364484953978\n",
      "-1.5189364484953978\n",
      "-1.5089364484953978\n",
      "-1.4989364484953978\n",
      "-1.4889364484953977\n",
      "-1.4789364484953977\n",
      "-1.4689364484953977\n",
      "-1.4589364484953977\n",
      "-1.4489364484953977\n",
      "-1.4389364484953977\n",
      "-1.4289364484953977\n",
      "-1.4189364484953977\n",
      "-1.4089364484953977\n",
      "-1.3989364484953977\n"
     ]
    }
   ],
   "source": [
    "for x in result.profile_result.list[0][0]['x_path'][0]:\n",
    "    print(x)"
   ]
  },
  {
   "cell_type": "code",
   "execution_count": 49,
   "metadata": {},
   "outputs": [
    {
     "name": "stdout",
     "output_type": "stream",
     "text": [
      "140.18246827606905\n",
      "139.9436429245117\n",
      "139.71839036597643\n",
      "139.50770440156856\n",
      "139.31235320653659\n",
      "139.13298450826463\n",
      "138.96994126131025\n",
      "138.8235004886973\n",
      "138.69367414415552\n",
      "138.58032971096338\n",
      "138.48323288051228\n",
      "138.40207691070785\n",
      "138.33654744723435\n",
      "138.28610056486752\n",
      "138.25074106319386\n",
      "138.22985484870594\n",
      "138.2219813672065\n",
      "138.2302156705939\n",
      "138.2706527672986\n",
      "138.2856905824872\n",
      "138.34122038541673\n",
      "138.39760164865567\n",
      "138.4742106727561\n",
      "138.5673834927515\n",
      "138.68823124024408\n",
      "138.7892913447156\n",
      "138.92574265466178\n",
      "139.06925680436058\n",
      "139.23630951515545\n",
      "139.405096712058\n",
      "139.5968466075887\n",
      "139.80001364582085\n",
      "140.01444349518695\n",
      "140.2451533323155\n"
     ]
    }
   ],
   "source": [
    "for x in result.profile_result.list[0][0]['fval_path']:\n",
    "    print(x)"
   ]
  },
  {
   "cell_type": "code",
   "execution_count": 28,
   "metadata": {},
   "outputs": [],
   "source": [
    "import logging\n",
    "import tempfile\n",
    "from pprint import pprint\n",
    "from collections.abc import Sequence\n",
    "from typing import Union\n",
    "\n",
    "import amici\n",
    "import matplotlib as mpl\n",
    "import numpy as np\n",
    "import petab\n",
    "\n",
    "import pypesto.optimize as optimize\n",
    "import pypesto.petab\n",
    "import pypesto.profile as profile\n",
    "import pypesto.sample as sample\n",
    "import pypesto.store as store\n",
    "import pypesto.visualize as visualize\n",
    "import pypesto.visualize.model_fit as model_fit\n",
    "\n",
    "from pypesto.profile import calculate_approximate_ci, chi2_quantile_to_ratio\n",
    "from pypesto.result import Result\n",
    "\n",
    "import matplotlib.axes\n",
    "import matplotlib.pyplot as plt\n",
    "import numpy as np\n",
    "\n",
    "# 6. Print the CIs\n",
    "def profile_cis(\n",
    "    result: pypesto.Result,\n",
    "    confidence_level: float = 0.95,\n",
    "    profile_indices: Sequence[int] = None,\n",
    "    profile_list: int = 0,\n",
    "    color: Union[str, tuple] = \"C0\",\n",
    "    show_bounds: bool = False,\n",
    "    ax: matplotlib.axes.Axes = None,\n",
    ") -> matplotlib.axes.Axes:\n",
    "    \"\"\"\n",
    "    Plot approximate confidence intervals based on profiles.\n",
    "\n",
    "    Parameters\n",
    "    ----------\n",
    "    result:\n",
    "        The result object after profiling.\n",
    "    confidence_level:\n",
    "        The confidence level in (0,1), which is translated to an approximate\n",
    "        threshold assuming a chi2 distribution, using\n",
    "        `pypesto.profile.chi2_quantile_to_ratio`.\n",
    "    profile_indices:\n",
    "        List of integer values specifying which profiles should be plotted.\n",
    "        Defaults to the indices for which profiles were generated in profile\n",
    "        list `profile_list`.\n",
    "    profile_list:\n",
    "        Index of the profile list to be used.\n",
    "    color:\n",
    "        Main plot color.\n",
    "    show_bounds:\n",
    "        Whether to show, and extend the plot to, the lower and upper bounds.\n",
    "    ax:\n",
    "        Axes object to use. Default: Create a new one.\n",
    "    \"\"\"\n",
    "    # extract problem\n",
    "    problem = result.problem\n",
    "    # extract profile list\n",
    "    profile_list = result.profile_result.list[profile_list]\n",
    "\n",
    "    if profile_indices is None:\n",
    "        profile_indices = [ix for ix, res in enumerate(profile_list) if res]\n",
    "\n",
    "    if ax is None:\n",
    "        fig, ax = plt.subplots()\n",
    "\n",
    "    confidence_ratio = chi2_quantile_to_ratio(confidence_level)\n",
    "\n",
    "    # calculate intervals\n",
    "    res = []\n",
    "    intervals = []\n",
    "    for i_par in range(problem.dim_full):\n",
    "        if i_par not in profile_indices:\n",
    "            continue\n",
    "        xs = profile_list[i_par].x_path[i_par]\n",
    "        ratios = profile_list[i_par].ratio_path\n",
    "        lb, ub = calculate_approximate_ci(\n",
    "            xs=xs, ratios=ratios, confidence_ratio=confidence_ratio\n",
    "        )\n",
    "        res.append((problem.x_names[i_par], (lb, ub)))\n",
    "        intervals.append((lb, ub))\n",
    "\n",
    "    x_names = [problem.x_names[ix] for ix in profile_indices]\n",
    "\n",
    "    for ix, (lb, ub) in enumerate(intervals):\n",
    "        ax.plot([lb, ub], [ix + 1, ix + 1], marker=\"|\", color=color)\n",
    "\n",
    "    parameters_ind = np.arange(1, len(intervals) + 1)\n",
    "    ax.set_yticks(parameters_ind)\n",
    "    ax.set_yticklabels(x_names)\n",
    "    ax.set_ylabel(\"Parameter\")\n",
    "    ax.set_xlabel(\"Parameter value\")\n",
    "\n",
    "    if show_bounds:\n",
    "        lb = problem.lb_full[profile_indices]\n",
    "        ax.plot(lb, parameters_ind, \"k--\", marker=\"+\")\n",
    "        ub = problem.ub_full[profile_indices]\n",
    "        ax.plot(ub, parameters_ind, \"k--\", marker=\"+\")\n",
    "\n",
    "    return res, fig, ax"
   ]
  },
  {
   "cell_type": "code",
   "execution_count": null,
   "metadata": {},
   "outputs": [],
   "source": []
  },
  {
   "cell_type": "code",
   "execution_count": 32,
   "metadata": {},
   "outputs": [
    {
     "name": "stdout",
     "output_type": "stream",
     "text": [
      "Nominal values of parameters:\n",
      "parameterId\n",
      "Epo_degradation_BaF3   -1.568918\n",
      "k_exp_hetero           -4.999705\n",
      "k_exp_homo             -2.209699\n",
      "k_imp_hetero           -1.786007\n",
      "k_imp_homo              4.990114\n",
      "k_phos                  4.197735\n",
      "ratio                  -0.159267\n",
      "sd_pSTAT5A_rel          0.585755\n",
      "sd_pSTAT5B_rel          0.818983\n",
      "sd_rSTAT5A_rel          0.498684\n",
      "specC17                -0.970616\n",
      "Name: nominalValue, dtype: float64\n",
      "Epo_degradation_BaF3 , CI is  (np.float64(-1.7274329307629694), np.float64(-1.4030935300095857))\n"
     ]
    },
    {
     "data": {
      "image/png": "[encoded data removed]",
      "text/plain": [
       "<Figure size 640x480 with 1 Axes>"
      ]
     },
     "metadata": {},
     "output_type": "display_data"
    }
   ],
   "source": [
    "res, fig, ax = profile_cis(result, profile_list=2)\n",
    "\n",
    "print(\"Nominal values of parameters:\")\n",
    "print(np.log10(petab_problem.parameter_df[\"nominalValue\"]))\n",
    "\n",
    "for (param, (lb, ub)) in res:\n",
    "    print(param, \", CI is \", (lb, ub))"
   ]
  },
  {
   "cell_type": "code",
   "execution_count": null,
   "metadata": {},
   "outputs": [],
   "source": [
    "# 5. Profile!\n",
    "approximate_result = pypesto.profile.approximate_parameter_profile(\n",
    "    problem=problem,\n",
    "    result=result,\n",
    "    optimizer=optimizer,\n",
    "    engine=engine,\n",
    ")"
   ]
  },
  {
   "cell_type": "code",
   "execution_count": null,
   "metadata": {},
   "outputs": [],
   "source": []
  },
  {
   "cell_type": "code",
   "execution_count": null,
   "metadata": {},
   "outputs": [],
   "source": []
  },
  {
   "cell_type": "code",
   "execution_count": null,
   "metadata": {},
   "outputs": [],
   "source": []
  },
  {
   "cell_type": "code",
   "execution_count": null,
   "metadata": {},
   "outputs": [],
   "source": [
    "# 4. Would like to use this startpoint for profiling\n",
    "x_nominal = np.array(np.log10(petab_problem.parameter_df[\"nominalValue\"]))\n",
    "\n",
    "# Craft a result manually\n",
    "artificial_result = pypesto.OptimizeResult()\n",
    "artificial_result.append(pypesto.OptimizerResult(\n",
    "    id = \"0\", \n",
    "    x = x_nominal, \n",
    "    fval = problem.objective(x_nominal[0:9]), \n",
    "    optimizer = optimizer\n",
    "))\n",
    "artificial_result.optimize_result = artificial_result"
   ]
  },
  {
   "cell_type": "code",
   "execution_count": null,
   "metadata": {},
   "outputs": [
    {
     "ename": "AttributeError",
     "evalue": "profile_result",
     "output_type": "error",
     "traceback": [
      "\u001b[31m---------------------------------------------------------------------------\u001b[39m",
      "\u001b[31mAttributeError\u001b[39m                            Traceback (most recent call last)",
      "\u001b[36mCell\u001b[39m\u001b[36m \u001b[39m\u001b[32mIn[6]\u001b[39m\u001b[32m, line 2\u001b[39m\n\u001b[32m      1\u001b[39m \u001b[38;5;66;03m# 5. Profile!\u001b[39;00m\n\u001b[32m----> \u001b[39m\u001b[32m2\u001b[39m result = \u001b[43mpypesto\u001b[49m\u001b[43m.\u001b[49m\u001b[43mprofile\u001b[49m\u001b[43m.\u001b[49m\u001b[43mparameter_profile\u001b[49m\u001b[43m(\u001b[49m\n\u001b[32m      3\u001b[39m \u001b[43m    \u001b[49m\u001b[43mproblem\u001b[49m\u001b[43m=\u001b[49m\u001b[43mproblem\u001b[49m\u001b[43m,\u001b[49m\n\u001b[32m      4\u001b[39m \u001b[43m    \u001b[49m\u001b[43mresult\u001b[49m\u001b[43m=\u001b[49m\u001b[43martificial_result\u001b[49m\u001b[43m,\u001b[49m\n\u001b[32m      5\u001b[39m \u001b[43m    \u001b[49m\u001b[43moptimizer\u001b[49m\u001b[43m=\u001b[49m\u001b[43moptimizer\u001b[49m\u001b[43m,\u001b[49m\n\u001b[32m      6\u001b[39m \u001b[43m    \u001b[49m\u001b[43mengine\u001b[49m\u001b[43m=\u001b[49m\u001b[43mengine\u001b[49m\u001b[43m,\u001b[49m\n\u001b[32m      7\u001b[39m \u001b[43m)\u001b[49m\n",
      "\u001b[36mFile \u001b[39m\u001b[32m~/venv/lib/python3.12/site-packages/pypesto/profile/profile.py:135\u001b[39m, in \u001b[36mparameter_profile\u001b[39m\u001b[34m(problem, result, optimizer, engine, profile_index, profile_list, result_index, next_guess_method, profile_options, progress_bar, filename, overwrite)\u001b[39m\n\u001b[32m    131\u001b[39m     \u001b[38;5;28;01mraise\u001b[39;00m \u001b[38;5;167;01mValueError\u001b[39;00m(\u001b[33m\"\u001b[39m\u001b[33mUnsupported input for next_guess_method.\u001b[39m\u001b[33m\"\u001b[39m)\n\u001b[32m    133\u001b[39m \u001b[38;5;66;03m# create the profile result object (retrieve global optimum) or append to\u001b[39;00m\n\u001b[32m    134\u001b[39m \u001b[38;5;66;03m# existing list of profiles\u001b[39;00m\n\u001b[32m--> \u001b[39m\u001b[32m135\u001b[39m global_opt = \u001b[43minitialize_profile\u001b[49m\u001b[43m(\u001b[49m\n\u001b[32m    136\u001b[39m \u001b[43m    \u001b[49m\u001b[43mproblem\u001b[49m\u001b[43m,\u001b[49m\u001b[43m \u001b[49m\u001b[43mresult\u001b[49m\u001b[43m,\u001b[49m\u001b[43m \u001b[49m\u001b[43mresult_index\u001b[49m\u001b[43m,\u001b[49m\u001b[43m \u001b[49m\u001b[43mprofile_index\u001b[49m\u001b[43m,\u001b[49m\u001b[43m \u001b[49m\u001b[43mprofile_list\u001b[49m\n\u001b[32m    137\u001b[39m \u001b[43m\u001b[49m\u001b[43m)\u001b[49m\n\u001b[32m    138\u001b[39m \u001b[38;5;66;03m# if engine==None set SingleCoreEngine() as default\u001b[39;00m\n\u001b[32m    139\u001b[39m \u001b[38;5;28;01mif\u001b[39;00m engine \u001b[38;5;129;01mis\u001b[39;00m \u001b[38;5;28;01mNone\u001b[39;00m:\n",
      "\u001b[36mFile \u001b[39m\u001b[32m~/venv/lib/python3.12/site-packages/pypesto/profile/util.py:128\u001b[39m, in \u001b[36minitialize_profile\u001b[39m\u001b[34m(problem, result, result_index, profile_index, profile_list)\u001b[39m\n\u001b[32m    126\u001b[39m \u001b[38;5;66;03m# Check if new profile_list is to be created\u001b[39;00m\n\u001b[32m    127\u001b[39m \u001b[38;5;28;01mif\u001b[39;00m profile_list \u001b[38;5;129;01mis\u001b[39;00m \u001b[38;5;28;01mNone\u001b[39;00m:\n\u001b[32m--> \u001b[39m\u001b[32m128\u001b[39m     \u001b[43mresult\u001b[49m\u001b[43m.\u001b[49m\u001b[43mprofile_result\u001b[49m.append_empty_profile_list()\n\u001b[32m    130\u001b[39m \u001b[38;5;66;03m# get the log-posterior of the global optimum\u001b[39;00m\n\u001b[32m    131\u001b[39m global_opt = tmp_optimize_result[\u001b[32m0\u001b[39m][\u001b[33m\"\u001b[39m\u001b[33mfval\u001b[39m\u001b[33m\"\u001b[39m]\n",
      "\u001b[36mFile \u001b[39m\u001b[32m~/venv/lib/python3.12/site-packages/pypesto/result/optimize.py:218\u001b[39m, in \u001b[36mOptimizeResult.__getattr__\u001b[39m\u001b[34m(self, key)\u001b[39m\n\u001b[32m    216\u001b[39m     \u001b[38;5;28;01mreturn\u001b[39;00m [res[key] \u001b[38;5;28;01mfor\u001b[39;00m res \u001b[38;5;129;01min\u001b[39;00m \u001b[38;5;28mself\u001b[39m.list]\n\u001b[32m    217\u001b[39m \u001b[38;5;28;01mexcept\u001b[39;00m \u001b[38;5;167;01mKeyError\u001b[39;00m:\n\u001b[32m--> \u001b[39m\u001b[32m218\u001b[39m     \u001b[38;5;28;01mraise\u001b[39;00m \u001b[38;5;167;01mAttributeError\u001b[39;00m(key) \u001b[38;5;28;01mfrom\u001b[39;00m\u001b[38;5;250m \u001b[39m\u001b[38;5;28;01mNone\u001b[39;00m\n",
      "\u001b[31mAttributeError\u001b[39m: profile_result"
     ]
    }
   ],
   "source": [
    "# 5. Profile!\n",
    "result = pypesto.profile.parameter_profile(\n",
    "    problem=problem,\n",
    "    result=artificial_result,\n",
    "    optimizer=optimizer,\n",
    "    engine=engine,\n",
    ")"
   ]
  },
  {
   "cell_type": "code",
   "execution_count": null,
   "metadata": {},
   "outputs": [],
   "source": []
  },
  {
   "cell_type": "code",
   "execution_count": null,
   "metadata": {},
   "outputs": [],
   "source": []
  },
  {
   "cell_type": "code",
   "execution_count": null,
   "metadata": {},
   "outputs": [],
   "source": [
    "# 1. Import packages\n",
    "import logging\n",
    "import tempfile\n",
    "from pprint import pprint\n",
    "from collections.abc import Sequence\n",
    "from typing import Union\n",
    "\n",
    "import amici\n",
    "import matplotlib as mpl\n",
    "import numpy as np\n",
    "import petab\n",
    "\n",
    "import pypesto.optimize as optimize\n",
    "import pypesto.petab\n",
    "import pypesto.profile as profile\n",
    "import pypesto.sample as sample\n",
    "import pypesto.store as store\n",
    "import pypesto.visualize as visualize\n",
    "import pypesto.visualize.model_fit as model_fit\n",
    "\n",
    "from pypesto.profile import calculate_approximate_ci, chi2_quantile_to_ratio\n",
    "from pypesto.result import Result\n",
    "\n",
    "import matplotlib.axes\n",
    "import matplotlib.pyplot as plt\n",
    "import numpy as np\n",
    "\n",
    "# Set seed for reproducibility\n",
    "np.random.seed(1912)"
   ]
  },
  {
   "cell_type": "code",
   "execution_count": null,
   "metadata": {},
   "outputs": [],
   "source": [
    "# 2. Import the model\n",
    "model_name = \"Boehm_JProteomeRes2014\"\n",
    "petab_yaml = f\"../../models/{model_name}/{model_name}.yaml\"\n",
    "\n",
    "petab_problem = petab.Problem.from_yaml(petab_yaml)\n",
    "importer = pypesto.petab.PetabImporter(petab_problem)\n",
    "problem = importer.create_problem(verbose=False)"
   ]
  },
  {
   "cell_type": "code",
   "execution_count": null,
   "metadata": {},
   "outputs": [],
   "source": [
    "# 3. Setup optimizers\n",
    "optimizer_options = {\"maxiter\": 1e4, \"fatol\": 1e-12, \"frtol\": 1e-12}\n",
    "optimizer = optimize.FidesOptimizer(options=optimizer_options, verbose=logging.WARN)\n",
    "optimizer_scipy_lbfgsb = optimize.ScipyOptimizer(method=\"L-BFGS-B\")\n",
    "optimizer_scipy_powell = optimize.ScipyOptimizer(method=\"Powell\")\n",
    "\n",
    "opt_options = optimize.OptimizeOptions()\n",
    "\n",
    "n_starts = 1\n",
    "engine = pypesto.engine.SingleCoreEngine()"
   ]
  },
  {
   "cell_type": "code",
   "execution_count": null,
   "metadata": {},
   "outputs": [
    {
     "name": "stderr",
     "output_type": "stream",
     "text": [
      "100%|██████████| 1/1 [00:06<00:00,  6.98s/it]\n"
     ]
    }
   ],
   "source": [
    "# 4. Minimize\n",
    "result = optimize.minimize(\n",
    "    problem=problem,\n",
    "    optimizer=optimizer_scipy_lbfgsb,\n",
    "    n_starts=n_starts,\n",
    "    engine=engine,\n",
    "    options=opt_options,\n",
    ")"
   ]
  },
  {
   "cell_type": "code",
   "execution_count": null,
   "metadata": {},
   "outputs": [
    {
     "data": {
      "text/plain": [
       "{'id': '0',\n",
       " 'x': array([-1.61861302,  5.        ,  0.06620852, -1.58796269,  5.        ,\n",
       "         4.13591306,  0.693     ,  0.93089388,  0.69594267,  0.58477082,\n",
       "         0.107     ]),\n",
       " 'fval': 149.58782906607252,\n",
       " 'grad': array([-1.05600446e-02, -3.06325314e-06,  4.53129778e-04, -1.81710202e-03,\n",
       "        -1.09759960e-05,  1.73614569e-04,             nan, -1.63775239e-03,\n",
       "         9.33937068e-04, -1.17724115e-06,             nan]),\n",
       " 'hess': None,\n",
       " 'res': None,\n",
       " 'sres': None,\n",
       " 'n_fval': 205,\n",
       " 'n_grad': 205,\n",
       " 'n_hess': 0,\n",
       " 'n_res': 0,\n",
       " 'n_sres': 0,\n",
       " 'x0': array([-4.72537584, -3.8267521 ,  0.17032373,  0.5309411 ,  1.82691101,\n",
       "        -0.13738387,  0.693     , -2.19222726,  2.40671846, -2.17865902,\n",
       "         0.107     ]),\n",
       " 'fval0': 1150653011.8154,\n",
       " 'history': <pypesto.history.base.CountHistory at 0x7fe391b7a2d0>,\n",
       " 'exitflag': 2,\n",
       " 'time': 6.97322416305542,\n",
       " 'message': 'ABNORMAL: ',\n",
       " 'optimizer': \"<ScipyOptimizer method=L-BFGS-B options={'disp': False, 'maxfun': 1000}>\",\n",
       " 'free_indices': array([0, 1, 2, 3, 4, 5, 7, 8, 9]),\n",
       " 'inner_parameters': None,\n",
       " 'spline_knots': None}"
      ]
     },
     "execution_count": 6,
     "metadata": {},
     "output_type": "execute_result"
    }
   ],
   "source": [
    "res = result.optimize_result.as_list()[0]\n",
    "res"
   ]
  },
  {
   "cell_type": "code",
   "execution_count": null,
   "metadata": {},
   "outputs": [
    {
     "data": {
      "text/plain": [
       "{'id': '1',\n",
       " 'x': array([-1.56891759, -4.99970489, -2.20969878, -1.78600655,  4.99011401,\n",
       "         4.19773549, -0.15926677,  0.58575527,  0.81898282,  0.4986844 ,\n",
       "        -0.97061622]),\n",
       " 'fval': 362.40196955539363,\n",
       " 'grad': None,\n",
       " 'hess': None,\n",
       " 'res': None,\n",
       " 'sres': None,\n",
       " 'n_fval': None,\n",
       " 'n_grad': None,\n",
       " 'n_hess': None,\n",
       " 'n_res': None,\n",
       " 'n_sres': None,\n",
       " 'x0': None,\n",
       " 'fval0': None,\n",
       " 'history': None,\n",
       " 'exitflag': None,\n",
       " 'time': None,\n",
       " 'message': None,\n",
       " 'optimizer': \"<ScipyOptimizer method=L-BFGS-B options={'disp': False, 'maxfun': 1000}>\",\n",
       " 'free_indices': None,\n",
       " 'inner_parameters': None,\n",
       " 'spline_knots': None}"
      ]
     },
     "execution_count": 9,
     "metadata": {},
     "output_type": "execute_result"
    }
   ],
   "source": [
    "res = result.optimize_result.as_list()[0]\n",
    "\n",
    "x_nominal = np.array(np.log10(petab_problem.parameter_df[\"nominalValue\"]))\n",
    "new_res = pypesto.OptimizerResult(\n",
    "    id=\"1\",\n",
    "    x=x_nominal,  \n",
    "    fval=problem.objective(x_nominal[0:9]),\n",
    "    optimizer=res['optimizer']\n",
    ")\n"
   ]
  },
  {
   "cell_type": "code",
   "execution_count": null,
   "metadata": {},
   "outputs": [],
   "source": [
    "result.optimize_result.append(new_res)"
   ]
  },
  {
   "cell_type": "code",
   "execution_count": null,
   "metadata": {},
   "outputs": [
    {
     "ename": "TypeError",
     "evalue": "unsupported operand type(s) for +: 'float' and 'NoneType'",
     "output_type": "error",
     "traceback": [
      "\u001b[31m---------------------------------------------------------------------------\u001b[39m",
      "\u001b[31mTypeError\u001b[39m                                 Traceback (most recent call last)",
      "\u001b[36mCell\u001b[39m\u001b[36m \u001b[39m\u001b[32mIn[11]\u001b[39m\u001b[32m, line 1\u001b[39m\n\u001b[32m----> \u001b[39m\u001b[32m1\u001b[39m \u001b[38;5;28mprint\u001b[39m(\u001b[43mresult\u001b[49m\u001b[43m.\u001b[49m\u001b[43moptimize_result\u001b[49m\u001b[43m.\u001b[49m\u001b[43msummary\u001b[49m\u001b[43m(\u001b[49m\u001b[43m)\u001b[49m)\n",
      "\u001b[36mFile \u001b[39m\u001b[32m~/venv/lib/python3.12/site-packages/pypesto/result/optimize.py:280\u001b[39m, in \u001b[36mOptimizeResult.summary\u001b[39m\u001b[34m(self, disp_best, disp_worst, full, show_hess)\u001b[39m\n\u001b[32m    274\u001b[39m counter_message = message_counts_df[[\u001b[33m\"\u001b[39m\u001b[33mCount\u001b[39m\u001b[33m\"\u001b[39m, \u001b[33m\"\u001b[39m\u001b[33mMessage\u001b[39m\u001b[33m\"\u001b[39m]].to_markdown(\n\u001b[32m    275\u001b[39m     index=\u001b[38;5;28;01mFalse\u001b[39;00m\n\u001b[32m    276\u001b[39m )\n\u001b[32m    277\u001b[39m counter_message = \u001b[33m\"\u001b[39m\u001b[33m  \u001b[39m\u001b[33m\"\u001b[39m + counter_message.replace(\u001b[33m\"\u001b[39m\u001b[38;5;130;01m\\n\u001b[39;00m\u001b[33m\"\u001b[39m, \u001b[33m\"\u001b[39m\u001b[38;5;130;01m\\n\u001b[39;00m\u001b[33m  \u001b[39m\u001b[33m\"\u001b[39m)\n\u001b[32m    279\u001b[39m times_message = (\n\u001b[32m--> \u001b[39m\u001b[32m280\u001b[39m     \u001b[33mf\u001b[39m\u001b[33m\"\u001b[39m\u001b[38;5;130;01m\\t\u001b[39;00m\u001b[33m* Mean execution time: \u001b[39m\u001b[38;5;132;01m{\u001b[39;00m\u001b[43mnp\u001b[49m\u001b[43m.\u001b[49m\u001b[43mmean\u001b[49m\u001b[43m(\u001b[49m\u001b[38;5;28;43mself\u001b[39;49m\u001b[43m.\u001b[49m\u001b[43mtime\u001b[49m\u001b[43m)\u001b[49m\u001b[38;5;132;01m:\u001b[39;00m\u001b[33m0.3f\u001b[39m\u001b[38;5;132;01m}\u001b[39;00m\u001b[33ms\u001b[39m\u001b[38;5;130;01m\\n\u001b[39;00m\u001b[33m\"\u001b[39m\n\u001b[32m    281\u001b[39m     \u001b[33mf\u001b[39m\u001b[33m\"\u001b[39m\u001b[38;5;130;01m\\t\u001b[39;00m\u001b[33m* Maximum execution time: \u001b[39m\u001b[38;5;132;01m{\u001b[39;00mnp.max(\u001b[38;5;28mself\u001b[39m.time)\u001b[38;5;132;01m:\u001b[39;00m\u001b[33m0.3f\u001b[39m\u001b[38;5;132;01m}\u001b[39;00m\u001b[33ms,\u001b[39m\u001b[33m\"\u001b[39m\n\u001b[32m    282\u001b[39m     \u001b[33mf\u001b[39m\u001b[33m\"\u001b[39m\u001b[38;5;130;01m\\t\u001b[39;00m\u001b[33mid=\u001b[39m\u001b[38;5;132;01m{\u001b[39;00m\u001b[38;5;28mself\u001b[39m[np.argmax(\u001b[38;5;28mself\u001b[39m.time)].id\u001b[38;5;132;01m}\u001b[39;00m\u001b[38;5;130;01m\\n\u001b[39;00m\u001b[33m\"\u001b[39m\n\u001b[32m    283\u001b[39m     \u001b[33mf\u001b[39m\u001b[33m\"\u001b[39m\u001b[38;5;130;01m\\t\u001b[39;00m\u001b[33m* Minimum execution time: \u001b[39m\u001b[38;5;132;01m{\u001b[39;00mnp.min(\u001b[38;5;28mself\u001b[39m.time)\u001b[38;5;132;01m:\u001b[39;00m\u001b[33m0.3f\u001b[39m\u001b[38;5;132;01m}\u001b[39;00m\u001b[33ms,\u001b[39m\u001b[38;5;130;01m\\t\u001b[39;00m\u001b[33m\"\u001b[39m\n\u001b[32m    284\u001b[39m     \u001b[33mf\u001b[39m\u001b[33m\"\u001b[39m\u001b[33mid=\u001b[39m\u001b[38;5;132;01m{\u001b[39;00m\u001b[38;5;28mself\u001b[39m[np.argmin(\u001b[38;5;28mself\u001b[39m.time)].id\u001b[38;5;132;01m}\u001b[39;00m\u001b[33m\"\u001b[39m\n\u001b[32m    285\u001b[39m )\n\u001b[32m    287\u001b[39m \u001b[38;5;66;03m# special handling in case there are only non-finite fvals\u001b[39;00m\n\u001b[32m    288\u001b[39m num_best_value = \u001b[38;5;28mint\u001b[39m(clustsize[\u001b[32m0\u001b[39m]) \u001b[38;5;28;01mif\u001b[39;00m \u001b[38;5;28mlen\u001b[39m(clustsize) \u001b[38;5;28;01melse\u001b[39;00m \u001b[38;5;28mlen\u001b[39m(\u001b[38;5;28mself\u001b[39m)\n",
      "\u001b[36mFile \u001b[39m\u001b[32m~/venv/lib/python3.12/site-packages/numpy/_core/fromnumeric.py:3860\u001b[39m, in \u001b[36mmean\u001b[39m\u001b[34m(a, axis, dtype, out, keepdims, where)\u001b[39m\n\u001b[32m   3857\u001b[39m     \u001b[38;5;28;01melse\u001b[39;00m:\n\u001b[32m   3858\u001b[39m         \u001b[38;5;28;01mreturn\u001b[39;00m mean(axis=axis, dtype=dtype, out=out, **kwargs)\n\u001b[32m-> \u001b[39m\u001b[32m3860\u001b[39m \u001b[38;5;28;01mreturn\u001b[39;00m \u001b[43m_methods\u001b[49m\u001b[43m.\u001b[49m\u001b[43m_mean\u001b[49m\u001b[43m(\u001b[49m\u001b[43ma\u001b[49m\u001b[43m,\u001b[49m\u001b[43m \u001b[49m\u001b[43maxis\u001b[49m\u001b[43m=\u001b[49m\u001b[43maxis\u001b[49m\u001b[43m,\u001b[49m\u001b[43m \u001b[49m\u001b[43mdtype\u001b[49m\u001b[43m=\u001b[49m\u001b[43mdtype\u001b[49m\u001b[43m,\u001b[49m\n\u001b[32m   3861\u001b[39m \u001b[43m                      \u001b[49m\u001b[43mout\u001b[49m\u001b[43m=\u001b[49m\u001b[43mout\u001b[49m\u001b[43m,\u001b[49m\u001b[43m \u001b[49m\u001b[43m*\u001b[49m\u001b[43m*\u001b[49m\u001b[43mkwargs\u001b[49m\u001b[43m)\u001b[49m\n",
      "\u001b[36mFile \u001b[39m\u001b[32m~/venv/lib/python3.12/site-packages/numpy/_core/_methods.py:135\u001b[39m, in \u001b[36m_mean\u001b[39m\u001b[34m(a, axis, dtype, out, keepdims, where)\u001b[39m\n\u001b[32m    132\u001b[39m         dtype = mu.dtype(\u001b[33m'\u001b[39m\u001b[33mf4\u001b[39m\u001b[33m'\u001b[39m)\n\u001b[32m    133\u001b[39m         is_float16_result = \u001b[38;5;28;01mTrue\u001b[39;00m\n\u001b[32m--> \u001b[39m\u001b[32m135\u001b[39m ret = \u001b[43mumr_sum\u001b[49m\u001b[43m(\u001b[49m\u001b[43marr\u001b[49m\u001b[43m,\u001b[49m\u001b[43m \u001b[49m\u001b[43maxis\u001b[49m\u001b[43m,\u001b[49m\u001b[43m \u001b[49m\u001b[43mdtype\u001b[49m\u001b[43m,\u001b[49m\u001b[43m \u001b[49m\u001b[43mout\u001b[49m\u001b[43m,\u001b[49m\u001b[43m \u001b[49m\u001b[43mkeepdims\u001b[49m\u001b[43m,\u001b[49m\u001b[43m \u001b[49m\u001b[43mwhere\u001b[49m\u001b[43m=\u001b[49m\u001b[43mwhere\u001b[49m\u001b[43m)\u001b[49m\n\u001b[32m    136\u001b[39m \u001b[38;5;28;01mif\u001b[39;00m \u001b[38;5;28misinstance\u001b[39m(ret, mu.ndarray):\n\u001b[32m    137\u001b[39m     ret = um.true_divide(\n\u001b[32m    138\u001b[39m             ret, rcount, out=ret, casting=\u001b[33m'\u001b[39m\u001b[33munsafe\u001b[39m\u001b[33m'\u001b[39m, subok=\u001b[38;5;28;01mFalse\u001b[39;00m)\n",
      "\u001b[31mTypeError\u001b[39m: unsupported operand type(s) for +: 'float' and 'NoneType'"
     ]
    }
   ],
   "source": [
    "print(result.optimize_result.summary())"
   ]
  },
  {
   "cell_type": "code",
   "execution_count": null,
   "metadata": {},
   "outputs": [
    {
     "data": {
      "text/plain": [
       "{'id': '0',\n",
       " 'x': array([-1.45035445,  3.69236283, -1.92159592, -1.80406735, -1.8974939 ,\n",
       "         3.96596721,  0.693     ,  0.54194995,  0.8524631 ,  1.00050434,\n",
       "         0.107     ]),\n",
       " 'fval': 156.34086584161074,\n",
       " 'grad': array([-3.22856080e-04, -2.18968089e-05, -1.69733912e-04,  2.02464251e-04,\n",
       "        -3.28560722e-04,  1.78148280e-03,             nan,  6.24480539e-04,\n",
       "         1.72388344e-04,  1.27974274e-04,             nan]),\n",
       " 'hess': None,\n",
       " 'res': None,\n",
       " 'sres': None,\n",
       " 'n_fval': 98,\n",
       " 'n_grad': 98,\n",
       " 'n_hess': 0,\n",
       " 'n_res': 0,\n",
       " 'n_sres': 0,\n",
       " 'x0': array([-4.01268137,  2.55286839, -0.11791459, -1.53186333, -4.54171971,\n",
       "         1.88975495,  0.693     , -1.94952623, -0.67531328, -1.19365571,\n",
       "         0.107     ]),\n",
       " 'fval0': 228597211.3740383,\n",
       " 'history': <pypesto.history.base.CountHistory at 0x7fcbb43fd700>,\n",
       " 'exitflag': 0,\n",
       " 'time': 4.0556557178497314,\n",
       " 'message': 'CONVERGENCE: RELATIVE REDUCTION OF F <= FACTR*EPSMCH',\n",
       " 'optimizer': \"<ScipyOptimizer method=L-BFGS-B options={'disp': False, 'maxfun': 1000}>\",\n",
       " 'free_indices': array([0, 1, 2, 3, 4, 5, 7, 8, 9]),\n",
       " 'inner_parameters': None,\n",
       " 'spline_knots': None}"
      ]
     },
     "execution_count": 216,
     "metadata": {},
     "output_type": "execute_result"
    }
   ],
   "source": [
    "result.optimize_result.as_list()[1]"
   ]
  },
  {
   "cell_type": "code",
   "execution_count": null,
   "metadata": {},
   "outputs": [
    {
     "name": "stderr",
     "output_type": "stream",
     "text": [
      "100%|██████████| 1/1 [00:00<00:00, 413.56it/s]\n"
     ]
    }
   ],
   "source": [
    "# 5. Profile\n",
    "result = pypesto.profile.parameter_profile(\n",
    "    problem=problem,\n",
    "    result=result,\n",
    "    optimizer=optimizer_scipy_lbfgsb,\n",
    "    engine=engine,\n",
    "    result_index=1,\n",
    "    profile_index=[0]\n",
    ")"
   ]
  },
  {
   "cell_type": "code",
   "execution_count": null,
   "metadata": {},
   "outputs": [
    {
     "data": {
      "text/plain": [
       "[[{'x_path': array([[-1.56891759],\n",
       "          [-4.99970489],\n",
       "          [-2.20969878],\n",
       "          [-1.78600655],\n",
       "          [ 4.99011401],\n",
       "          [ 4.19773549],\n",
       "          [-0.15926677],\n",
       "          [ 0.58575527],\n",
       "          [ 0.81898282],\n",
       "          [ 0.4986844 ],\n",
       "          [-0.97061622]]),\n",
       "   'fval_path': array([362.40196956]),\n",
       "   'ratio_path': array([3.76697827e-93]),\n",
       "   'gradnorm_path': array([nan]),\n",
       "   'exitflag_path': array([None], dtype=object),\n",
       "   'time_path': array([0.]),\n",
       "   'color_path': array([[1, 0, 0, 1]]),\n",
       "   'time_total': 0.0,\n",
       "   'n_fval': 0,\n",
       "   'n_grad': 0,\n",
       "   'n_hess': 0,\n",
       "   'message': None},\n",
       "  None,\n",
       "  None,\n",
       "  None,\n",
       "  None,\n",
       "  None,\n",
       "  None,\n",
       "  None,\n",
       "  None,\n",
       "  None,\n",
       "  None]]"
      ]
     },
     "execution_count": 13,
     "metadata": {},
     "output_type": "execute_result"
    }
   ],
   "source": [
    "result.profile_result.list"
   ]
  },
  {
   "cell_type": "code",
   "execution_count": null,
   "metadata": {},
   "outputs": [],
   "source": [
    "# 6. Print the CIs\n",
    "def profile_cis(\n",
    "    result: pypesto.Result,\n",
    "    confidence_level: float = 0.95,\n",
    "    profile_indices: Sequence[int] = None,\n",
    "    profile_list: int = 0,\n",
    "    color: Union[str, tuple] = \"C0\",\n",
    "    show_bounds: bool = False,\n",
    "    ax: matplotlib.axes.Axes = None,\n",
    ") -> matplotlib.axes.Axes:\n",
    "    \"\"\"\n",
    "    Plot approximate confidence intervals based on profiles.\n",
    "\n",
    "    Parameters\n",
    "    ----------\n",
    "    result:\n",
    "        The result object after profiling.\n",
    "    confidence_level:\n",
    "        The confidence level in (0,1), which is translated to an approximate\n",
    "        threshold assuming a chi2 distribution, using\n",
    "        `pypesto.profile.chi2_quantile_to_ratio`.\n",
    "    profile_indices:\n",
    "        List of integer values specifying which profiles should be plotted.\n",
    "        Defaults to the indices for which profiles were generated in profile\n",
    "        list `profile_list`.\n",
    "    profile_list:\n",
    "        Index of the profile list to be used.\n",
    "    color:\n",
    "        Main plot color.\n",
    "    show_bounds:\n",
    "        Whether to show, and extend the plot to, the lower and upper bounds.\n",
    "    ax:\n",
    "        Axes object to use. Default: Create a new one.\n",
    "    \"\"\"\n",
    "    # extract problem\n",
    "    problem = result.problem\n",
    "    # extract profile list\n",
    "    profile_list = result.profile_result.list[profile_list]\n",
    "\n",
    "    if profile_indices is None:\n",
    "        profile_indices = [ix for ix, res in enumerate(profile_list) if res]\n",
    "\n",
    "    if ax is None:\n",
    "        fig, ax = plt.subplots()\n",
    "\n",
    "    confidence_ratio = chi2_quantile_to_ratio(confidence_level)\n",
    "\n",
    "    # calculate intervals\n",
    "    res = []\n",
    "    intervals = []\n",
    "    for i_par in range(problem.dim_full):\n",
    "        if i_par not in profile_indices:\n",
    "            continue\n",
    "        xs = profile_list[i_par].x_path[i_par]\n",
    "        ratios = profile_list[i_par].ratio_path\n",
    "        lb, ub = calculate_approximate_ci(\n",
    "            xs=xs, ratios=ratios, confidence_ratio=confidence_ratio\n",
    "        )\n",
    "        res.append((problem.x_names[i_par], (lb, ub)))\n",
    "        intervals.append((lb, ub))\n",
    "\n",
    "    x_names = [problem.x_names[ix] for ix in profile_indices]\n",
    "\n",
    "    for ix, (lb, ub) in enumerate(intervals):\n",
    "        ax.plot([lb, ub], [ix + 1, ix + 1], marker=\"|\", color=color)\n",
    "\n",
    "    parameters_ind = np.arange(1, len(intervals) + 1)\n",
    "    ax.set_yticks(parameters_ind)\n",
    "    ax.set_yticklabels(x_names)\n",
    "    ax.set_ylabel(\"Parameter\")\n",
    "    ax.set_xlabel(\"Parameter value\")\n",
    "\n",
    "    if show_bounds:\n",
    "        lb = problem.lb_full[profile_indices]\n",
    "        ax.plot(lb, parameters_ind, \"k--\", marker=\"+\")\n",
    "        ub = problem.ub_full[profile_indices]\n",
    "        ax.plot(ub, parameters_ind, \"k--\", marker=\"+\")\n",
    "\n",
    "    return res, fig, ax"
   ]
  },
  {
   "cell_type": "code",
   "execution_count": null,
   "metadata": {},
   "outputs": [
    {
     "name": "stdout",
     "output_type": "stream",
     "text": [
      "Nominal values of parameters:\n",
      "parameterId\n",
      "Epo_degradation_BaF3   -1.568918\n",
      "k_exp_hetero           -4.999705\n",
      "k_exp_homo             -2.209699\n",
      "k_imp_hetero           -1.786007\n",
      "k_imp_homo              4.990114\n",
      "k_phos                  4.197735\n",
      "ratio                  -0.159267\n",
      "sd_pSTAT5A_rel          0.585755\n",
      "sd_pSTAT5B_rel          0.818983\n",
      "sd_rSTAT5A_rel          0.498684\n",
      "specC17                -0.970616\n",
      "Name: nominalValue, dtype: float64\n",
      "Epo_degradation_BaF3 , CI is  (np.float64(-1.735525095083418), np.float64(-1.313228398151176))\n"
     ]
    },
    {
     "data": {
      "image/png": "[encoded data removed]",
      "text/plain": [
       "<Figure size 640x480 with 1 Axes>"
      ]
     },
     "metadata": {},
     "output_type": "display_data"
    }
   ],
   "source": [
    "res, fig, ax = profile_cis(result, profile_list=0)\n",
    "\n",
    "print(\"Nominal values of parameters:\")\n",
    "print(np.log10(petab_problem.parameter_df[\"nominalValue\"]))\n",
    "\n",
    "for (param, (lb, ub)) in res:\n",
    "    print(param, \", CI is \", (lb, ub))"
   ]
  },
  {
   "cell_type": "code",
   "execution_count": null,
   "metadata": {},
   "outputs": [
    {
     "data": {
      "text/plain": [
       "array([-1.38386757, -1.40881507, -1.43050954, ..., -1.56905677,\n",
       "       -1.56905128, -1.56904594], shape=(5595,))"
      ]
     },
     "execution_count": 78,
     "metadata": {},
     "output_type": "execute_result"
    }
   ],
   "source": [
    "result.profile_result.list[0][4]['x_path'][0]"
   ]
  }
 ],
 "metadata": {
  "kernelspec": {
   "display_name": "venv",
   "language": "python",
   "name": "python3"
  },
  "language_info": {
   "codemirror_mode": {
    "name": "ipython",
    "version": 3
   },
   "file_extension": ".py",
   "mimetype": "text/x-python",
   "name": "python",
   "nbconvert_exporter": "python",
   "pygments_lexer": "ipython3",
   "version": "3.12.3"
  }
 },
 "nbformat": 4,
 "nbformat_minor": 2
}
