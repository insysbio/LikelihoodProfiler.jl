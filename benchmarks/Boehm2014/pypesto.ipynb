{
 "cells": [
  {
   "cell_type": "code",
   "execution_count": 79,
   "metadata": {},
   "outputs": [],
   "source": [
    "# 1. Import packages\n",
    "import logging\n",
    "import tempfile\n",
    "from pprint import pprint\n",
    "from collections.abc import Sequence\n",
    "from typing import Union\n",
    "\n",
    "import amici\n",
    "import matplotlib as mpl\n",
    "import numpy as np\n",
    "import petab\n",
    "\n",
    "import pypesto.optimize as optimize\n",
    "import pypesto.petab\n",
    "import pypesto.profile as profile\n",
    "import pypesto.sample as sample\n",
    "import pypesto.store as store\n",
    "import pypesto.visualize as visualize\n",
    "import pypesto.visualize.model_fit as model_fit\n",
    "\n",
    "from pypesto.profile import calculate_approximate_ci, chi2_quantile_to_ratio\n",
    "from pypesto.result import Result\n",
    "\n",
    "import matplotlib.axes\n",
    "import matplotlib.pyplot as plt\n",
    "import numpy as np\n",
    "\n",
    "# Set seed for reproducibility\n",
    "np.random.seed(1912)"
   ]
  },
  {
   "cell_type": "code",
   "execution_count": 80,
   "metadata": {},
   "outputs": [],
   "source": [
    "# 2. Import the model\n",
    "model_name = \"Boehm_JProteomeRes2014\"\n",
    "petab_yaml = f\"../../models/{model_name}/{model_name}.yaml\"\n",
    "\n",
    "petab_problem = petab.Problem.from_yaml(petab_yaml)\n",
    "importer = pypesto.petab.PetabImporter(petab_problem)\n",
    "problem = importer.create_problem(verbose=False)"
   ]
  },
  {
   "cell_type": "code",
   "execution_count": 197,
   "metadata": {},
   "outputs": [],
   "source": [
    "# 3. Setup optimizers\n",
    "optimizer_options = {\"maxiter\": 1e4, \"fatol\": 1e-12, \"frtol\": 1e-12}\n",
    "optimizer = optimize.FidesOptimizer(options=optimizer_options, verbose=logging.WARN)\n",
    "optimizer_scipy_lbfgsb = optimize.ScipyOptimizer(method=\"L-BFGS-B\")\n",
    "optimizer_scipy_powell = optimize.ScipyOptimizer(method=\"Powell\")\n",
    "\n",
    "opt_options = optimize.OptimizeOptions()\n",
    "\n",
    "n_starts = 2\n",
    "engine = pypesto.engine.SingleCoreEngine()"
   ]
  },
  {
   "cell_type": "code",
   "execution_count": 198,
   "metadata": {},
   "outputs": [
    {
     "name": "stderr",
     "output_type": "stream",
     "text": [
      "100%|██████████| 2/2 [00:13<00:00,  6.57s/it]\n"
     ]
    }
   ],
   "source": [
    "# 4. Minimize\n",
    "result = optimize.minimize(\n",
    "    problem=problem,\n",
    "    optimizer=optimizer_scipy_lbfgsb,\n",
    "    n_starts=n_starts,\n",
    "    engine=engine,\n",
    "    options=opt_options,\n",
    ")"
   ]
  },
  {
   "cell_type": "code",
   "execution_count": 200,
   "metadata": {},
   "outputs": [
    {
     "data": {
      "text/plain": [
       "{'id': '0',\n",
       " 'x': array([-1.45035445,  3.69236283, -1.92159592, -1.80406735, -1.8974939 ,\n",
       "         3.96596721,  0.693     ,  0.54194995,  0.8524631 ,  1.00050434,\n",
       "         0.107     ]),\n",
       " 'fval': 156.34086584161074,\n",
       " 'grad': array([-3.22856080e-04, -2.18968089e-05, -1.69733912e-04,  2.02464251e-04,\n",
       "        -3.28560722e-04,  1.78148280e-03,             nan,  6.24480539e-04,\n",
       "         1.72388344e-04,  1.27974274e-04,             nan]),\n",
       " 'hess': None,\n",
       " 'res': None,\n",
       " 'sres': None,\n",
       " 'n_fval': 98,\n",
       " 'n_grad': 98,\n",
       " 'n_hess': 0,\n",
       " 'n_res': 0,\n",
       " 'n_sres': 0,\n",
       " 'x0': array([-4.01268137,  2.55286839, -0.11791459, -1.53186333, -4.54171971,\n",
       "         1.88975495,  0.693     , -1.94952623, -0.67531328, -1.19365571,\n",
       "         0.107     ]),\n",
       " 'fval0': 228597211.3740383,\n",
       " 'history': <pypesto.history.base.CountHistory at 0x7fcbb43fd700>,\n",
       " 'exitflag': 0,\n",
       " 'time': 4.0556557178497314,\n",
       " 'message': 'CONVERGENCE: RELATIVE REDUCTION OF F <= FACTR*EPSMCH',\n",
       " 'optimizer': \"<ScipyOptimizer method=L-BFGS-B options={'disp': False, 'maxfun': 1000}>\",\n",
       " 'free_indices': array([0, 1, 2, 3, 4, 5, 7, 8, 9]),\n",
       " 'inner_parameters': None,\n",
       " 'spline_knots': None}"
      ]
     },
     "execution_count": 200,
     "metadata": {},
     "output_type": "execute_result"
    }
   ],
   "source": [
    "res = result.optimize_result.as_list()[1]\n",
    "res"
   ]
  },
  {
   "cell_type": "code",
   "execution_count": 199,
   "metadata": {},
   "outputs": [
    {
     "data": {
      "text/plain": [
       "{'id': '1',\n",
       " 'x': array([-1.61858363,  4.99984878,  0.06613037, -1.58800256,  5.        ,\n",
       "         4.1359167 ,  0.693     ,  0.93089463,  0.69594855,  0.58476783,\n",
       "         0.107     ]),\n",
       " 'fval': 149.58782918274096,\n",
       " 'grad': array([-4.46256902e-04, -3.06375476e-06, -4.98179035e-04, -1.33820467e-04,\n",
       "        -1.09855793e-05, -1.90895672e-03,             nan,  1.90389448e-03,\n",
       "        -2.99069178e-05, -1.96291498e-03,             nan]),\n",
       " 'hess': None,\n",
       " 'res': None,\n",
       " 'sres': None,\n",
       " 'n_fval': 188,\n",
       " 'n_grad': 188,\n",
       " 'n_hess': 0,\n",
       " 'n_res': 0,\n",
       " 'n_sres': 0,\n",
       " 'x0': array([-1.6637002 ,  4.53945391,  2.0209994 ,  0.63129853, -4.74870318,\n",
       "         1.05971421,  0.693     , -3.53472066,  3.49967548,  4.99794198,\n",
       "         0.107     ]),\n",
       " 'fval0': 509396817412.3761,\n",
       " 'history': <pypesto.history.base.CountHistory at 0x7fcbb43f8e60>,\n",
       " 'exitflag': 0,\n",
       " 'time': 9.052470207214355,\n",
       " 'message': 'CONVERGENCE: RELATIVE REDUCTION OF F <= FACTR*EPSMCH',\n",
       " 'optimizer': \"<ScipyOptimizer method=L-BFGS-B options={'disp': False, 'maxfun': 1000}>\",\n",
       " 'free_indices': array([0, 1, 2, 3, 4, 5, 7, 8, 9]),\n",
       " 'inner_parameters': None,\n",
       " 'spline_knots': None}"
      ]
     },
     "execution_count": 199,
     "metadata": {},
     "output_type": "execute_result"
    }
   ],
   "source": [
    "res = result.optimize_result.as_list()[0]\n",
    "res"
   ]
  },
  {
   "cell_type": "code",
   "execution_count": 184,
   "metadata": {},
   "outputs": [
    {
     "data": {
      "text/plain": [
       "{'id': 'new',\n",
       " 'x': array([-1.56891759, -4.99970489, -2.20969878, -1.78600655,  4.99011401,\n",
       "         4.19773549, -0.15926677,  0.58575527,  0.81898282,  0.4986844 ,\n",
       "        -0.97061622]),\n",
       " 'fval': 362.40196955539363,\n",
       " 'grad': None,\n",
       " 'hess': None,\n",
       " 'res': None,\n",
       " 'sres': None,\n",
       " 'n_fval': None,\n",
       " 'n_grad': None,\n",
       " 'n_hess': None,\n",
       " 'n_res': None,\n",
       " 'n_sres': None,\n",
       " 'x0': None,\n",
       " 'fval0': None,\n",
       " 'history': None,\n",
       " 'exitflag': None,\n",
       " 'time': None,\n",
       " 'message': None,\n",
       " 'optimizer': \"<ScipyOptimizer method=L-BFGS-B options={'disp': False, 'maxfun': 1000}>\",\n",
       " 'free_indices': None,\n",
       " 'inner_parameters': None,\n",
       " 'spline_knots': None}"
      ]
     },
     "execution_count": 184,
     "metadata": {},
     "output_type": "execute_result"
    }
   ],
   "source": [
    "res = result.optimize_result.as_list()[0]\n",
    "\n",
    "x_nominal = np.array(np.log10(petab_problem.parameter_df[\"nominalValue\"]))\n",
    "new_res = pypesto.OptimizerResult(\n",
    "    id=\"new\",\n",
    "    x=x_nominal,  \n",
    "    fval=problem.objective(x_nominal[0:9]),\n",
    "    optimizer=res['optimizer']\n",
    ")\n",
    "new_res"
   ]
  },
  {
   "cell_type": "code",
   "execution_count": 185,
   "metadata": {},
   "outputs": [],
   "source": [
    "result.optimize_result.append(new_res)"
   ]
  },
  {
   "cell_type": "code",
   "execution_count": 186,
   "metadata": {},
   "outputs": [
    {
     "ename": "TypeError",
     "evalue": "unsupported operand type(s) for +: 'float' and 'NoneType'",
     "output_type": "error",
     "traceback": [
      "\u001b[31m---------------------------------------------------------------------------\u001b[39m",
      "\u001b[31mTypeError\u001b[39m                                 Traceback (most recent call last)",
      "\u001b[36mCell\u001b[39m\u001b[36m \u001b[39m\u001b[32mIn[186]\u001b[39m\u001b[32m, line 1\u001b[39m\n\u001b[32m----> \u001b[39m\u001b[32m1\u001b[39m \u001b[38;5;28mprint\u001b[39m(\u001b[43mresult\u001b[49m\u001b[43m.\u001b[49m\u001b[43moptimize_result\u001b[49m\u001b[43m.\u001b[49m\u001b[43msummary\u001b[49m\u001b[43m(\u001b[49m\u001b[43m)\u001b[49m)\n",
      "\u001b[36mFile \u001b[39m\u001b[32m~/venv/lib/python3.12/site-packages/pypesto/result/optimize.py:280\u001b[39m, in \u001b[36mOptimizeResult.summary\u001b[39m\u001b[34m(self, disp_best, disp_worst, full, show_hess)\u001b[39m\n\u001b[32m    274\u001b[39m counter_message = message_counts_df[[\u001b[33m\"\u001b[39m\u001b[33mCount\u001b[39m\u001b[33m\"\u001b[39m, \u001b[33m\"\u001b[39m\u001b[33mMessage\u001b[39m\u001b[33m\"\u001b[39m]].to_markdown(\n\u001b[32m    275\u001b[39m     index=\u001b[38;5;28;01mFalse\u001b[39;00m\n\u001b[32m    276\u001b[39m )\n\u001b[32m    277\u001b[39m counter_message = \u001b[33m\"\u001b[39m\u001b[33m  \u001b[39m\u001b[33m\"\u001b[39m + counter_message.replace(\u001b[33m\"\u001b[39m\u001b[38;5;130;01m\\n\u001b[39;00m\u001b[33m\"\u001b[39m, \u001b[33m\"\u001b[39m\u001b[38;5;130;01m\\n\u001b[39;00m\u001b[33m  \u001b[39m\u001b[33m\"\u001b[39m)\n\u001b[32m    279\u001b[39m times_message = (\n\u001b[32m--> \u001b[39m\u001b[32m280\u001b[39m     \u001b[33mf\u001b[39m\u001b[33m\"\u001b[39m\u001b[38;5;130;01m\\t\u001b[39;00m\u001b[33m* Mean execution time: \u001b[39m\u001b[38;5;132;01m{\u001b[39;00m\u001b[43mnp\u001b[49m\u001b[43m.\u001b[49m\u001b[43mmean\u001b[49m\u001b[43m(\u001b[49m\u001b[38;5;28;43mself\u001b[39;49m\u001b[43m.\u001b[49m\u001b[43mtime\u001b[49m\u001b[43m)\u001b[49m\u001b[38;5;132;01m:\u001b[39;00m\u001b[33m0.3f\u001b[39m\u001b[38;5;132;01m}\u001b[39;00m\u001b[33ms\u001b[39m\u001b[38;5;130;01m\\n\u001b[39;00m\u001b[33m\"\u001b[39m\n\u001b[32m    281\u001b[39m     \u001b[33mf\u001b[39m\u001b[33m\"\u001b[39m\u001b[38;5;130;01m\\t\u001b[39;00m\u001b[33m* Maximum execution time: \u001b[39m\u001b[38;5;132;01m{\u001b[39;00mnp.max(\u001b[38;5;28mself\u001b[39m.time)\u001b[38;5;132;01m:\u001b[39;00m\u001b[33m0.3f\u001b[39m\u001b[38;5;132;01m}\u001b[39;00m\u001b[33ms,\u001b[39m\u001b[33m\"\u001b[39m\n\u001b[32m    282\u001b[39m     \u001b[33mf\u001b[39m\u001b[33m\"\u001b[39m\u001b[38;5;130;01m\\t\u001b[39;00m\u001b[33mid=\u001b[39m\u001b[38;5;132;01m{\u001b[39;00m\u001b[38;5;28mself\u001b[39m[np.argmax(\u001b[38;5;28mself\u001b[39m.time)].id\u001b[38;5;132;01m}\u001b[39;00m\u001b[38;5;130;01m\\n\u001b[39;00m\u001b[33m\"\u001b[39m\n\u001b[32m    283\u001b[39m     \u001b[33mf\u001b[39m\u001b[33m\"\u001b[39m\u001b[38;5;130;01m\\t\u001b[39;00m\u001b[33m* Minimum execution time: \u001b[39m\u001b[38;5;132;01m{\u001b[39;00mnp.min(\u001b[38;5;28mself\u001b[39m.time)\u001b[38;5;132;01m:\u001b[39;00m\u001b[33m0.3f\u001b[39m\u001b[38;5;132;01m}\u001b[39;00m\u001b[33ms,\u001b[39m\u001b[38;5;130;01m\\t\u001b[39;00m\u001b[33m\"\u001b[39m\n\u001b[32m    284\u001b[39m     \u001b[33mf\u001b[39m\u001b[33m\"\u001b[39m\u001b[33mid=\u001b[39m\u001b[38;5;132;01m{\u001b[39;00m\u001b[38;5;28mself\u001b[39m[np.argmin(\u001b[38;5;28mself\u001b[39m.time)].id\u001b[38;5;132;01m}\u001b[39;00m\u001b[33m\"\u001b[39m\n\u001b[32m    285\u001b[39m )\n\u001b[32m    287\u001b[39m \u001b[38;5;66;03m# special handling in case there are only non-finite fvals\u001b[39;00m\n\u001b[32m    288\u001b[39m num_best_value = \u001b[38;5;28mint\u001b[39m(clustsize[\u001b[32m0\u001b[39m]) \u001b[38;5;28;01mif\u001b[39;00m \u001b[38;5;28mlen\u001b[39m(clustsize) \u001b[38;5;28;01melse\u001b[39;00m \u001b[38;5;28mlen\u001b[39m(\u001b[38;5;28mself\u001b[39m)\n",
      "\u001b[36mFile \u001b[39m\u001b[32m~/venv/lib/python3.12/site-packages/numpy/_core/fromnumeric.py:3860\u001b[39m, in \u001b[36mmean\u001b[39m\u001b[34m(a, axis, dtype, out, keepdims, where)\u001b[39m\n\u001b[32m   3857\u001b[39m     \u001b[38;5;28;01melse\u001b[39;00m:\n\u001b[32m   3858\u001b[39m         \u001b[38;5;28;01mreturn\u001b[39;00m mean(axis=axis, dtype=dtype, out=out, **kwargs)\n\u001b[32m-> \u001b[39m\u001b[32m3860\u001b[39m \u001b[38;5;28;01mreturn\u001b[39;00m \u001b[43m_methods\u001b[49m\u001b[43m.\u001b[49m\u001b[43m_mean\u001b[49m\u001b[43m(\u001b[49m\u001b[43ma\u001b[49m\u001b[43m,\u001b[49m\u001b[43m \u001b[49m\u001b[43maxis\u001b[49m\u001b[43m=\u001b[49m\u001b[43maxis\u001b[49m\u001b[43m,\u001b[49m\u001b[43m \u001b[49m\u001b[43mdtype\u001b[49m\u001b[43m=\u001b[49m\u001b[43mdtype\u001b[49m\u001b[43m,\u001b[49m\n\u001b[32m   3861\u001b[39m \u001b[43m                      \u001b[49m\u001b[43mout\u001b[49m\u001b[43m=\u001b[49m\u001b[43mout\u001b[49m\u001b[43m,\u001b[49m\u001b[43m \u001b[49m\u001b[43m*\u001b[49m\u001b[43m*\u001b[49m\u001b[43mkwargs\u001b[49m\u001b[43m)\u001b[49m\n",
      "\u001b[36mFile \u001b[39m\u001b[32m~/venv/lib/python3.12/site-packages/numpy/_core/_methods.py:135\u001b[39m, in \u001b[36m_mean\u001b[39m\u001b[34m(a, axis, dtype, out, keepdims, where)\u001b[39m\n\u001b[32m    132\u001b[39m         dtype = mu.dtype(\u001b[33m'\u001b[39m\u001b[33mf4\u001b[39m\u001b[33m'\u001b[39m)\n\u001b[32m    133\u001b[39m         is_float16_result = \u001b[38;5;28;01mTrue\u001b[39;00m\n\u001b[32m--> \u001b[39m\u001b[32m135\u001b[39m ret = \u001b[43mumr_sum\u001b[49m\u001b[43m(\u001b[49m\u001b[43marr\u001b[49m\u001b[43m,\u001b[49m\u001b[43m \u001b[49m\u001b[43maxis\u001b[49m\u001b[43m,\u001b[49m\u001b[43m \u001b[49m\u001b[43mdtype\u001b[49m\u001b[43m,\u001b[49m\u001b[43m \u001b[49m\u001b[43mout\u001b[49m\u001b[43m,\u001b[49m\u001b[43m \u001b[49m\u001b[43mkeepdims\u001b[49m\u001b[43m,\u001b[49m\u001b[43m \u001b[49m\u001b[43mwhere\u001b[49m\u001b[43m=\u001b[49m\u001b[43mwhere\u001b[49m\u001b[43m)\u001b[49m\n\u001b[32m    136\u001b[39m \u001b[38;5;28;01mif\u001b[39;00m \u001b[38;5;28misinstance\u001b[39m(ret, mu.ndarray):\n\u001b[32m    137\u001b[39m     ret = um.true_divide(\n\u001b[32m    138\u001b[39m             ret, rcount, out=ret, casting=\u001b[33m'\u001b[39m\u001b[33munsafe\u001b[39m\u001b[33m'\u001b[39m, subok=\u001b[38;5;28;01mFalse\u001b[39;00m)\n",
      "\u001b[31mTypeError\u001b[39m: unsupported operand type(s) for +: 'float' and 'NoneType'"
     ]
    }
   ],
   "source": [
    "print(result.optimize_result.summary())"
   ]
  },
  {
   "cell_type": "code",
   "execution_count": 216,
   "metadata": {},
   "outputs": [
    {
     "data": {
      "text/plain": [
       "{'id': '0',\n",
       " 'x': array([-1.45035445,  3.69236283, -1.92159592, -1.80406735, -1.8974939 ,\n",
       "         3.96596721,  0.693     ,  0.54194995,  0.8524631 ,  1.00050434,\n",
       "         0.107     ]),\n",
       " 'fval': 156.34086584161074,\n",
       " 'grad': array([-3.22856080e-04, -2.18968089e-05, -1.69733912e-04,  2.02464251e-04,\n",
       "        -3.28560722e-04,  1.78148280e-03,             nan,  6.24480539e-04,\n",
       "         1.72388344e-04,  1.27974274e-04,             nan]),\n",
       " 'hess': None,\n",
       " 'res': None,\n",
       " 'sres': None,\n",
       " 'n_fval': 98,\n",
       " 'n_grad': 98,\n",
       " 'n_hess': 0,\n",
       " 'n_res': 0,\n",
       " 'n_sres': 0,\n",
       " 'x0': array([-4.01268137,  2.55286839, -0.11791459, -1.53186333, -4.54171971,\n",
       "         1.88975495,  0.693     , -1.94952623, -0.67531328, -1.19365571,\n",
       "         0.107     ]),\n",
       " 'fval0': 228597211.3740383,\n",
       " 'history': <pypesto.history.base.CountHistory at 0x7fcbb43fd700>,\n",
       " 'exitflag': 0,\n",
       " 'time': 4.0556557178497314,\n",
       " 'message': 'CONVERGENCE: RELATIVE REDUCTION OF F <= FACTR*EPSMCH',\n",
       " 'optimizer': \"<ScipyOptimizer method=L-BFGS-B options={'disp': False, 'maxfun': 1000}>\",\n",
       " 'free_indices': array([0, 1, 2, 3, 4, 5, 7, 8, 9]),\n",
       " 'inner_parameters': None,\n",
       " 'spline_knots': None}"
      ]
     },
     "execution_count": 216,
     "metadata": {},
     "output_type": "execute_result"
    }
   ],
   "source": [
    "result.optimize_result.as_list()[1]"
   ]
  },
  {
   "cell_type": "code",
   "execution_count": 217,
   "metadata": {},
   "outputs": [
    {
     "name": "stderr",
     "output_type": "stream",
     "text": [
      "100%|██████████| 1/1 [00:00<00:00, 762.05it/s]\n"
     ]
    }
   ],
   "source": [
    "# 5. Profile\n",
    "result = pypesto.profile.parameter_profile(\n",
    "    problem=problem,\n",
    "    result=result,\n",
    "    optimizer=optimizer_scipy_lbfgsb,\n",
    "    engine=engine,\n",
    "    result_index=1,\n",
    "    profile_index=[0]\n",
    ")"
   ]
  },
  {
   "cell_type": "code",
   "execution_count": 222,
   "metadata": {},
   "outputs": [
    {
     "data": {
      "text/plain": [
       "[{'x_path': array([[-1.45035445],\n",
       "         [ 3.69236283],\n",
       "         [-1.92159592],\n",
       "         [-1.80406735],\n",
       "         [-1.8974939 ],\n",
       "         [ 3.96596721],\n",
       "         [ 0.693     ],\n",
       "         [ 0.54194995],\n",
       "         [ 0.8524631 ],\n",
       "         [ 1.00050434],\n",
       "         [ 0.107     ]]),\n",
       "  'fval_path': array([156.34086584]),\n",
       "  'ratio_path': array([0.00116733]),\n",
       "  'gradnorm_path': array([nan]),\n",
       "  'exitflag_path': array([0]),\n",
       "  'time_path': array([0.]),\n",
       "  'color_path': array([[1, 0, 0, 1]]),\n",
       "  'time_total': 0.0,\n",
       "  'n_fval': 0,\n",
       "  'n_grad': 0,\n",
       "  'n_hess': 0,\n",
       "  'message': None},\n",
       " None,\n",
       " None,\n",
       " None,\n",
       " None,\n",
       " None,\n",
       " None,\n",
       " None,\n",
       " None,\n",
       " None,\n",
       " None]"
      ]
     },
     "execution_count": 222,
     "metadata": {},
     "output_type": "execute_result"
    }
   ],
   "source": [
    "result.profile_result.list[2]"
   ]
  },
  {
   "cell_type": "code",
   "execution_count": 204,
   "metadata": {},
   "outputs": [],
   "source": [
    "# 6. Print the CIs\n",
    "def profile_cis(\n",
    "    result: Result,\n",
    "    confidence_level: float = 0.95,\n",
    "    profile_indices: Sequence[int] = None,\n",
    "    profile_list: int = 0,\n",
    "    color: Union[str, tuple] = \"C0\",\n",
    "    show_bounds: bool = False,\n",
    "    ax: matplotlib.axes.Axes = None,\n",
    ") -> matplotlib.axes.Axes:\n",
    "    \"\"\"\n",
    "    Plot approximate confidence intervals based on profiles.\n",
    "\n",
    "    Parameters\n",
    "    ----------\n",
    "    result:\n",
    "        The result object after profiling.\n",
    "    confidence_level:\n",
    "        The confidence level in (0,1), which is translated to an approximate\n",
    "        threshold assuming a chi2 distribution, using\n",
    "        `pypesto.profile.chi2_quantile_to_ratio`.\n",
    "    profile_indices:\n",
    "        List of integer values specifying which profiles should be plotted.\n",
    "        Defaults to the indices for which profiles were generated in profile\n",
    "        list `profile_list`.\n",
    "    profile_list:\n",
    "        Index of the profile list to be used.\n",
    "    color:\n",
    "        Main plot color.\n",
    "    show_bounds:\n",
    "        Whether to show, and extend the plot to, the lower and upper bounds.\n",
    "    ax:\n",
    "        Axes object to use. Default: Create a new one.\n",
    "    \"\"\"\n",
    "    # extract problem\n",
    "    problem = result.problem\n",
    "    # extract profile list\n",
    "    profile_list = result.profile_result.list[profile_list]\n",
    "\n",
    "    if profile_indices is None:\n",
    "        profile_indices = [ix for ix, res in enumerate(profile_list) if res]\n",
    "\n",
    "    if ax is None:\n",
    "        fig, ax = plt.subplots()\n",
    "\n",
    "    confidence_ratio = chi2_quantile_to_ratio(confidence_level)\n",
    "\n",
    "    # calculate intervals\n",
    "    res = []\n",
    "    intervals = []\n",
    "    for i_par in range(problem.dim_full):\n",
    "        if i_par not in profile_indices:\n",
    "            continue\n",
    "        xs = profile_list[i_par].x_path[i_par]\n",
    "        ratios = profile_list[i_par].ratio_path\n",
    "        lb, ub = calculate_approximate_ci(\n",
    "            xs=xs, ratios=ratios, confidence_ratio=confidence_ratio\n",
    "        )\n",
    "        res.append((problem.x_names[i_par], (lb, ub)))\n",
    "        intervals.append((lb, ub))\n",
    "\n",
    "    x_names = [problem.x_names[ix] for ix in profile_indices]\n",
    "\n",
    "    for ix, (lb, ub) in enumerate(intervals):\n",
    "        ax.plot([lb, ub], [ix + 1, ix + 1], marker=\"|\", color=color)\n",
    "\n",
    "    parameters_ind = np.arange(1, len(intervals) + 1)\n",
    "    ax.set_yticks(parameters_ind)\n",
    "    ax.set_yticklabels(x_names)\n",
    "    ax.set_ylabel(\"Parameter\")\n",
    "    ax.set_xlabel(\"Parameter value\")\n",
    "\n",
    "    if show_bounds:\n",
    "        lb = problem.lb_full[profile_indices]\n",
    "        ax.plot(lb, parameters_ind, \"k--\", marker=\"+\")\n",
    "        ub = problem.ub_full[profile_indices]\n",
    "        ax.plot(ub, parameters_ind, \"k--\", marker=\"+\")\n",
    "\n",
    "    return res, fig, ax"
   ]
  },
  {
   "cell_type": "code",
   "execution_count": 213,
   "metadata": {},
   "outputs": [
    {
     "name": "stdout",
     "output_type": "stream",
     "text": [
      "Nominal values of parameters:\n",
      "parameterId\n",
      "Epo_degradation_BaF3   -1.568918\n",
      "k_exp_hetero           -4.999705\n",
      "k_exp_homo             -2.209699\n",
      "k_imp_hetero           -1.786007\n",
      "k_imp_homo              4.990114\n",
      "k_phos                  4.197735\n",
      "ratio                  -0.159267\n",
      "sd_pSTAT5A_rel          0.585755\n",
      "sd_pSTAT5B_rel          0.818983\n",
      "sd_rSTAT5A_rel          0.498684\n",
      "specC17                -0.970616\n",
      "Name: nominalValue, dtype: float64\n",
      "Epo_degradation_BaF3 , CI is  (np.float64(-1.735525095083418), np.float64(-1.313228398151176))\n"
     ]
    },
    {
     "data": {
      "image/png": "[encoded data removed]",
      "text/plain": [
       "<Figure size 640x480 with 1 Axes>"
      ]
     },
     "metadata": {},
     "output_type": "display_data"
    }
   ],
   "source": [
    "res, fig, ax = profile_cis(result, profile_list=0)\n",
    "\n",
    "print(\"Nominal values of parameters:\")\n",
    "print(np.log10(petab_problem.parameter_df[\"nominalValue\"]))\n",
    "\n",
    "for (param, (lb, ub)) in res:\n",
    "    print(param, \", CI is \", (lb, ub))"
   ]
  },
  {
   "cell_type": "code",
   "execution_count": null,
   "metadata": {},
   "outputs": [
    {
     "data": {
      "text/plain": [
       "array([-1.38386757, -1.40881507, -1.43050954, ..., -1.56905677,\n",
       "       -1.56905128, -1.56904594], shape=(5595,))"
      ]
     },
     "execution_count": 78,
     "metadata": {},
     "output_type": "execute_result"
    }
   ],
   "source": [
    "result.profile_result.list[0][4]['x_path'][0]"
   ]
  }
 ],
 "metadata": {
  "kernelspec": {
   "display_name": "venv",
   "language": "python",
   "name": "python3"
  },
  "language_info": {
   "codemirror_mode": {
    "name": "ipython",
    "version": 3
   },
   "file_extension": ".py",
   "mimetype": "text/x-python",
   "name": "python",
   "nbconvert_exporter": "python",
   "pygments_lexer": "ipython3",
   "version": "3.12.3"
  }
 },
 "nbformat": 4,
 "nbformat_minor": 2
}
